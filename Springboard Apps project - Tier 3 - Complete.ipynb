{
 "cells": [
  {
   "cell_type": "markdown",
   "metadata": {
    "colab_type": "text",
    "id": "i2RUFW7TFcuh"
   },
   "source": [
    "# Springboard Apps project - Tier 3 - Complete\n",
    "\n",
    "Welcome to the Apps project! To give you a taste of your future career, we're going to walk through exactly the kind of notebook that you'd write as a data scientist. In the process, we'll be sure to signpost the general framework for our investigation - the Data Science Pipeline - as well as give reasons for why we're doing what we're doing. We're also going to apply some of the skills and knowledge you've built up in the previous unit when reading Professor Spiegelhalter's *The Art of Statistics* (hereinafter *AoS*). \n",
    "\n",
    "So let's get cracking!\n",
    "\n",
    "**Brief**\n",
    "\n",
    "Did Apple Store apps receive better reviews than Google Play apps?\n",
    "\n",
    "## Stages of the project\n",
    "\n",
    "1. Sourcing and loading \n",
    "    * Load the two datasets\n",
    "    * Pick the columns that we are going to work with \n",
    "    * Subsetting the data on this basis \n",
    " \n",
    " \n",
    "2. Cleaning, transforming and visualizing\n",
    "    * Check the data types and fix them\n",
    "    * Add a `platform` column to both the `Apple` and the `Google` dataframes\n",
    "    * Changing the column names to prepare for a join \n",
    "    * Join the two data sets\n",
    "    * Eliminate the `NaN` values\n",
    "    * Filter only those apps that have been reviewed at least once\n",
    "    * Summarize the data visually and analytically (by the column `platform`)  \n",
    "  \n",
    "  \n",
    "3. Modelling \n",
    "    * Hypothesis formulation\n",
    "    * Getting the distribution of the data\n",
    "    * Permutation test \n",
    "\n",
    "\n",
    "4. Evaluating and concluding \n",
    "    * What is our conclusion?\n",
    "    * What is our decision?\n",
    "    * Other models we could have used. \n",
    "    "
   ]
  },
  {
   "cell_type": "markdown",
   "metadata": {
    "colab_type": "text",
    "id": "QLUAXtl1Fcuk"
   },
   "source": [
    "## Importing the libraries\n",
    "\n",
    "In this case we are going to import pandas, numpy, scipy, random and matplotlib.pyplot"
   ]
  },
  {
   "cell_type": "code",
   "execution_count": 1,
   "metadata": {
    "colab": {},
    "colab_type": "code",
    "id": "XeXJOlGiFcum"
   },
   "outputs": [],
   "source": [
    "import pandas as pd\n",
    "import numpy as np\n",
    "import matplotlib.pyplot as plt\n",
    "# scipi is a library for statistical tests and visualizations \n",
    "from scipy import stats\n",
    "# random enables us to generate random numbers\n",
    "import random"
   ]
  },
  {
   "cell_type": "markdown",
   "metadata": {
    "colab_type": "text",
    "id": "zVD7NlPAFcup"
   },
   "source": [
    "## Stage 1 -  Sourcing and loading data"
   ]
  },
  {
   "cell_type": "markdown",
   "metadata": {
    "colab_type": "text",
    "id": "KU8bdbImFcuq"
   },
   "source": [
    "### 1a. Source and load the data\n",
    "Let's download the data from Kaggle. Kaggle is a fantastic resource: a kind of social medium for data scientists, it boasts projects, datasets and news on the freshest libraries and technologies all in one place. The data from the Apple Store can be found [here](https://www.kaggle.com/ramamet4/app-store-apple-data-set-10k-apps) and the data from Google Store can be found [here](https://www.kaggle.com/lava18/google-play-store-apps).\n",
    "Download the datasets and save them in your working directory."
   ]
  },
  {
   "cell_type": "code",
   "execution_count": 2,
   "metadata": {
    "colab": {},
    "colab_type": "code",
    "id": "laM1PB76Fcur"
   },
   "outputs": [
    {
     "data": {
      "text/html": [
       "<div>\n",
       "<style scoped>\n",
       "    .dataframe tbody tr th:only-of-type {\n",
       "        vertical-align: middle;\n",
       "    }\n",
       "\n",
       "    .dataframe tbody tr th {\n",
       "        vertical-align: top;\n",
       "    }\n",
       "\n",
       "    .dataframe thead th {\n",
       "        text-align: right;\n",
       "    }\n",
       "</style>\n",
       "<table border=\"1\" class=\"dataframe\">\n",
       "  <thead>\n",
       "    <tr style=\"text-align: right;\">\n",
       "      <th></th>\n",
       "      <th>App</th>\n",
       "      <th>Category</th>\n",
       "      <th>Rating</th>\n",
       "      <th>Reviews</th>\n",
       "      <th>Size</th>\n",
       "      <th>Installs</th>\n",
       "      <th>Type</th>\n",
       "      <th>Price</th>\n",
       "      <th>Content Rating</th>\n",
       "      <th>Genres</th>\n",
       "      <th>Last Updated</th>\n",
       "      <th>Current Ver</th>\n",
       "      <th>Android Ver</th>\n",
       "    </tr>\n",
       "  </thead>\n",
       "  <tbody>\n",
       "    <tr>\n",
       "      <th>0</th>\n",
       "      <td>Photo Editor &amp; Candy Camera &amp; Grid &amp; ScrapBook</td>\n",
       "      <td>ART_AND_DESIGN</td>\n",
       "      <td>4.1</td>\n",
       "      <td>159</td>\n",
       "      <td>19M</td>\n",
       "      <td>10,000+</td>\n",
       "      <td>Free</td>\n",
       "      <td>0</td>\n",
       "      <td>Everyone</td>\n",
       "      <td>Art &amp; Design</td>\n",
       "      <td>January 7, 2018</td>\n",
       "      <td>1.0.0</td>\n",
       "      <td>4.0.3 and up</td>\n",
       "    </tr>\n",
       "    <tr>\n",
       "      <th>1</th>\n",
       "      <td>Coloring book moana</td>\n",
       "      <td>ART_AND_DESIGN</td>\n",
       "      <td>3.9</td>\n",
       "      <td>967</td>\n",
       "      <td>14M</td>\n",
       "      <td>500,000+</td>\n",
       "      <td>Free</td>\n",
       "      <td>0</td>\n",
       "      <td>Everyone</td>\n",
       "      <td>Art &amp; Design;Pretend Play</td>\n",
       "      <td>January 15, 2018</td>\n",
       "      <td>2.0.0</td>\n",
       "      <td>4.0.3 and up</td>\n",
       "    </tr>\n",
       "    <tr>\n",
       "      <th>2</th>\n",
       "      <td>U Launcher Lite – FREE Live Cool Themes, Hide ...</td>\n",
       "      <td>ART_AND_DESIGN</td>\n",
       "      <td>4.7</td>\n",
       "      <td>87510</td>\n",
       "      <td>8.7M</td>\n",
       "      <td>5,000,000+</td>\n",
       "      <td>Free</td>\n",
       "      <td>0</td>\n",
       "      <td>Everyone</td>\n",
       "      <td>Art &amp; Design</td>\n",
       "      <td>August 1, 2018</td>\n",
       "      <td>1.2.4</td>\n",
       "      <td>4.0.3 and up</td>\n",
       "    </tr>\n",
       "  </tbody>\n",
       "</table>\n",
       "</div>"
      ],
      "text/plain": [
       "                                                 App        Category  Rating  \\\n",
       "0     Photo Editor & Candy Camera & Grid & ScrapBook  ART_AND_DESIGN     4.1   \n",
       "1                                Coloring book moana  ART_AND_DESIGN     3.9   \n",
       "2  U Launcher Lite – FREE Live Cool Themes, Hide ...  ART_AND_DESIGN     4.7   \n",
       "\n",
       "  Reviews  Size    Installs  Type Price Content Rating  \\\n",
       "0     159   19M     10,000+  Free     0       Everyone   \n",
       "1     967   14M    500,000+  Free     0       Everyone   \n",
       "2   87510  8.7M  5,000,000+  Free     0       Everyone   \n",
       "\n",
       "                      Genres      Last Updated Current Ver   Android Ver  \n",
       "0               Art & Design   January 7, 2018       1.0.0  4.0.3 and up  \n",
       "1  Art & Design;Pretend Play  January 15, 2018       2.0.0  4.0.3 and up  \n",
       "2               Art & Design    August 1, 2018       1.2.4  4.0.3 and up  "
      ]
     },
     "execution_count": 2,
     "metadata": {},
     "output_type": "execute_result"
    }
   ],
   "source": [
    "# Now that the files are saved, we want to load them into Python using read_csv and pandas.\n",
    "\n",
    "# Create a variable called google, and store in it the path of the csv file that contains your google dataset. \n",
    "# If your dataset is in the same folder as this notebook, the path will simply be the name of the file. \n",
    "google = 'googleplaystore.csv'\n",
    "\n",
    "# Read the csv file into a data frame called Google using the read_csv() pandas method.\n",
    "Google = pd.read_csv(google)\n",
    "\n",
    "# Using the head() pandas method, observe the first three entries.\n",
    "Google.head(3)"
   ]
  },
  {
   "cell_type": "code",
   "execution_count": 3,
   "metadata": {
    "colab": {},
    "colab_type": "code",
    "id": "3AW8EA1wFcuu"
   },
   "outputs": [
    {
     "data": {
      "text/html": [
       "<div>\n",
       "<style scoped>\n",
       "    .dataframe tbody tr th:only-of-type {\n",
       "        vertical-align: middle;\n",
       "    }\n",
       "\n",
       "    .dataframe tbody tr th {\n",
       "        vertical-align: top;\n",
       "    }\n",
       "\n",
       "    .dataframe thead th {\n",
       "        text-align: right;\n",
       "    }\n",
       "</style>\n",
       "<table border=\"1\" class=\"dataframe\">\n",
       "  <thead>\n",
       "    <tr style=\"text-align: right;\">\n",
       "      <th></th>\n",
       "      <th>Unnamed: 0</th>\n",
       "      <th>id</th>\n",
       "      <th>track_name</th>\n",
       "      <th>size_bytes</th>\n",
       "      <th>currency</th>\n",
       "      <th>price</th>\n",
       "      <th>rating_count_tot</th>\n",
       "      <th>rating_count_ver</th>\n",
       "      <th>user_rating</th>\n",
       "      <th>user_rating_ver</th>\n",
       "      <th>ver</th>\n",
       "      <th>cont_rating</th>\n",
       "      <th>prime_genre</th>\n",
       "      <th>sup_devices.num</th>\n",
       "      <th>ipadSc_urls.num</th>\n",
       "      <th>lang.num</th>\n",
       "      <th>vpp_lic</th>\n",
       "    </tr>\n",
       "  </thead>\n",
       "  <tbody>\n",
       "    <tr>\n",
       "      <th>0</th>\n",
       "      <td>1</td>\n",
       "      <td>281656475</td>\n",
       "      <td>PAC-MAN Premium</td>\n",
       "      <td>100788224</td>\n",
       "      <td>USD</td>\n",
       "      <td>3.99</td>\n",
       "      <td>21292</td>\n",
       "      <td>26</td>\n",
       "      <td>4.0</td>\n",
       "      <td>4.5</td>\n",
       "      <td>6.3.5</td>\n",
       "      <td>4+</td>\n",
       "      <td>Games</td>\n",
       "      <td>38</td>\n",
       "      <td>5</td>\n",
       "      <td>10</td>\n",
       "      <td>1</td>\n",
       "    </tr>\n",
       "    <tr>\n",
       "      <th>1</th>\n",
       "      <td>2</td>\n",
       "      <td>281796108</td>\n",
       "      <td>Evernote - stay organized</td>\n",
       "      <td>158578688</td>\n",
       "      <td>USD</td>\n",
       "      <td>0.00</td>\n",
       "      <td>161065</td>\n",
       "      <td>26</td>\n",
       "      <td>4.0</td>\n",
       "      <td>3.5</td>\n",
       "      <td>8.2.2</td>\n",
       "      <td>4+</td>\n",
       "      <td>Productivity</td>\n",
       "      <td>37</td>\n",
       "      <td>5</td>\n",
       "      <td>23</td>\n",
       "      <td>1</td>\n",
       "    </tr>\n",
       "    <tr>\n",
       "      <th>2</th>\n",
       "      <td>3</td>\n",
       "      <td>281940292</td>\n",
       "      <td>WeatherBug - Local Weather, Radar, Maps, Alerts</td>\n",
       "      <td>100524032</td>\n",
       "      <td>USD</td>\n",
       "      <td>0.00</td>\n",
       "      <td>188583</td>\n",
       "      <td>2822</td>\n",
       "      <td>3.5</td>\n",
       "      <td>4.5</td>\n",
       "      <td>5.0.0</td>\n",
       "      <td>4+</td>\n",
       "      <td>Weather</td>\n",
       "      <td>37</td>\n",
       "      <td>5</td>\n",
       "      <td>3</td>\n",
       "      <td>1</td>\n",
       "    </tr>\n",
       "  </tbody>\n",
       "</table>\n",
       "</div>"
      ],
      "text/plain": [
       "   Unnamed: 0         id                                       track_name  \\\n",
       "0           1  281656475                                  PAC-MAN Premium   \n",
       "1           2  281796108                        Evernote - stay organized   \n",
       "2           3  281940292  WeatherBug - Local Weather, Radar, Maps, Alerts   \n",
       "\n",
       "   size_bytes currency  price  rating_count_tot  rating_count_ver  \\\n",
       "0   100788224      USD   3.99             21292                26   \n",
       "1   158578688      USD   0.00            161065                26   \n",
       "2   100524032      USD   0.00            188583              2822   \n",
       "\n",
       "   user_rating  user_rating_ver    ver cont_rating   prime_genre  \\\n",
       "0          4.0              4.5  6.3.5          4+         Games   \n",
       "1          4.0              3.5  8.2.2          4+  Productivity   \n",
       "2          3.5              4.5  5.0.0          4+       Weather   \n",
       "\n",
       "   sup_devices.num  ipadSc_urls.num  lang.num  vpp_lic  \n",
       "0               38                5        10        1  \n",
       "1               37                5        23        1  \n",
       "2               37                5         3        1  "
      ]
     },
     "execution_count": 3,
     "metadata": {},
     "output_type": "execute_result"
    }
   ],
   "source": [
    "# Create a variable called apple, and store in it the path of the csv file that contains your apple dataset. \n",
    "apple = 'AppleStore.csv'\n",
    "\n",
    "# Read the csv file into a pandas DataFrame object called Apple.\n",
    "Apple = pd.read_csv(apple)\n",
    "\n",
    "# Observe the first three entries like you did with your other data. \n",
    "Apple.head(3)"
   ]
  },
  {
   "cell_type": "markdown",
   "metadata": {
    "colab_type": "text",
    "id": "vljOHKNTFcuw"
   },
   "source": [
    "### 1b. Pick the columns we'll work with\n",
    "\n",
    "From the documentation of these datasets, we can infer that the most appropriate columns to answer the brief are:\n",
    "\n",
    "1. Google:\n",
    "    * `Category` # Do we need this?\n",
    "    * `Rating`\n",
    "    * `Reviews`\n",
    "    * `Price` (maybe)\n",
    "2. Apple:    \n",
    "    * `prime_genre` # Do we need this?\n",
    "    * `user_rating` \n",
    "    * `rating_count_tot`\n",
    "    * `price` (maybe)"
   ]
  },
  {
   "cell_type": "markdown",
   "metadata": {
    "colab_type": "text",
    "id": "uf69AeTvFcux"
   },
   "source": [
    "### 1c. Subsetting accordingly\n",
    "\n",
    "Let's select only those columns that we want to work with from both datasets. We'll overwrite the subsets in the original variables."
   ]
  },
  {
   "cell_type": "code",
   "execution_count": 4,
   "metadata": {
    "colab": {},
    "colab_type": "code",
    "id": "LNSDXyjdFcuy"
   },
   "outputs": [
    {
     "data": {
      "text/html": [
       "<div>\n",
       "<style scoped>\n",
       "    .dataframe tbody tr th:only-of-type {\n",
       "        vertical-align: middle;\n",
       "    }\n",
       "\n",
       "    .dataframe tbody tr th {\n",
       "        vertical-align: top;\n",
       "    }\n",
       "\n",
       "    .dataframe thead th {\n",
       "        text-align: right;\n",
       "    }\n",
       "</style>\n",
       "<table border=\"1\" class=\"dataframe\">\n",
       "  <thead>\n",
       "    <tr style=\"text-align: right;\">\n",
       "      <th></th>\n",
       "      <th>Category</th>\n",
       "      <th>Rating</th>\n",
       "      <th>Reviews</th>\n",
       "      <th>Price</th>\n",
       "    </tr>\n",
       "  </thead>\n",
       "  <tbody>\n",
       "    <tr>\n",
       "      <th>0</th>\n",
       "      <td>ART_AND_DESIGN</td>\n",
       "      <td>4.1</td>\n",
       "      <td>159</td>\n",
       "      <td>0</td>\n",
       "    </tr>\n",
       "    <tr>\n",
       "      <th>1</th>\n",
       "      <td>ART_AND_DESIGN</td>\n",
       "      <td>3.9</td>\n",
       "      <td>967</td>\n",
       "      <td>0</td>\n",
       "    </tr>\n",
       "    <tr>\n",
       "      <th>2</th>\n",
       "      <td>ART_AND_DESIGN</td>\n",
       "      <td>4.7</td>\n",
       "      <td>87510</td>\n",
       "      <td>0</td>\n",
       "    </tr>\n",
       "  </tbody>\n",
       "</table>\n",
       "</div>"
      ],
      "text/plain": [
       "         Category  Rating Reviews Price\n",
       "0  ART_AND_DESIGN     4.1     159     0\n",
       "1  ART_AND_DESIGN     3.9     967     0\n",
       "2  ART_AND_DESIGN     4.7   87510     0"
      ]
     },
     "execution_count": 4,
     "metadata": {},
     "output_type": "execute_result"
    }
   ],
   "source": [
    "# Subset our DataFrame object Google by selecting just the variables ['Category', 'Rating', 'Reviews', 'Price']\n",
    "Google = Google[['Category', 'Rating', 'Reviews', 'Price']]\n",
    "\n",
    "# Check the first three entries\n",
    "Google.head(3)"
   ]
  },
  {
   "cell_type": "code",
   "execution_count": 5,
   "metadata": {
    "colab": {},
    "colab_type": "code",
    "id": "AVCtENPtFcu0"
   },
   "outputs": [
    {
     "data": {
      "text/html": [
       "<div>\n",
       "<style scoped>\n",
       "    .dataframe tbody tr th:only-of-type {\n",
       "        vertical-align: middle;\n",
       "    }\n",
       "\n",
       "    .dataframe tbody tr th {\n",
       "        vertical-align: top;\n",
       "    }\n",
       "\n",
       "    .dataframe thead th {\n",
       "        text-align: right;\n",
       "    }\n",
       "</style>\n",
       "<table border=\"1\" class=\"dataframe\">\n",
       "  <thead>\n",
       "    <tr style=\"text-align: right;\">\n",
       "      <th></th>\n",
       "      <th>prime_genre</th>\n",
       "      <th>user_rating</th>\n",
       "      <th>rating_count_tot</th>\n",
       "      <th>price</th>\n",
       "    </tr>\n",
       "  </thead>\n",
       "  <tbody>\n",
       "    <tr>\n",
       "      <th>0</th>\n",
       "      <td>Games</td>\n",
       "      <td>4.0</td>\n",
       "      <td>21292</td>\n",
       "      <td>3.99</td>\n",
       "    </tr>\n",
       "    <tr>\n",
       "      <th>1</th>\n",
       "      <td>Productivity</td>\n",
       "      <td>4.0</td>\n",
       "      <td>161065</td>\n",
       "      <td>0.00</td>\n",
       "    </tr>\n",
       "    <tr>\n",
       "      <th>2</th>\n",
       "      <td>Weather</td>\n",
       "      <td>3.5</td>\n",
       "      <td>188583</td>\n",
       "      <td>0.00</td>\n",
       "    </tr>\n",
       "  </tbody>\n",
       "</table>\n",
       "</div>"
      ],
      "text/plain": [
       "    prime_genre  user_rating  rating_count_tot  price\n",
       "0         Games          4.0             21292   3.99\n",
       "1  Productivity          4.0            161065   0.00\n",
       "2       Weather          3.5            188583   0.00"
      ]
     },
     "execution_count": 5,
     "metadata": {},
     "output_type": "execute_result"
    }
   ],
   "source": [
    "# Do the same with our Apple object, selecting just the variables ['prime_genre', 'user_rating', 'rating_count_tot', 'price']\n",
    "Apple = Apple[['prime_genre', 'user_rating', 'rating_count_tot', 'price']]\n",
    "\n",
    "# Let's check the first three entries\n",
    "Apple.head(3)"
   ]
  },
  {
   "cell_type": "markdown",
   "metadata": {
    "colab_type": "text",
    "id": "wwK2wH-rFcu2"
   },
   "source": [
    "## Stage 2 -  Cleaning, transforming and visualizing"
   ]
  },
  {
   "cell_type": "markdown",
   "metadata": {
    "colab_type": "text",
    "id": "NsoE5x0JFcu3"
   },
   "source": [
    "### 2a. Check the data types for both Apple and Google, and fix them\n",
    "\n",
    "Types are crucial for data science in Python. Let's determine whether the variables we selected in the previous section belong to the types they should do, or whether there are any errors here. "
   ]
  },
  {
   "cell_type": "code",
   "execution_count": 6,
   "metadata": {
    "colab": {},
    "colab_type": "code",
    "id": "ymw10SaWFcu4"
   },
   "outputs": [
    {
     "data": {
      "text/plain": [
       "prime_genre          object\n",
       "user_rating         float64\n",
       "rating_count_tot      int64\n",
       "price               float64\n",
       "dtype: object"
      ]
     },
     "execution_count": 6,
     "metadata": {},
     "output_type": "execute_result"
    }
   ],
   "source": [
    "# Using the dtypes feature of pandas DataFrame objects, check out the data types within our Apple dataframe.\n",
    "# Are they what you expect?\n",
    "Apple.dtypes"
   ]
  },
  {
   "cell_type": "markdown",
   "metadata": {
    "colab_type": "text",
    "id": "VAiM6jIxFcu6"
   },
   "source": [
    "This is looking healthy. But what about our Google data frame?"
   ]
  },
  {
   "cell_type": "code",
   "execution_count": 7,
   "metadata": {
    "colab": {},
    "colab_type": "code",
    "id": "kmP8MhqyFcu7"
   },
   "outputs": [
    {
     "data": {
      "text/plain": [
       "Category     object\n",
       "Rating      float64\n",
       "Reviews      object\n",
       "Price        object\n",
       "dtype: object"
      ]
     },
     "execution_count": 7,
     "metadata": {},
     "output_type": "execute_result"
    }
   ],
   "source": [
    "# Using the same dtypes feature, check out the data types of our Google dataframe. \n",
    "Google.dtypes"
   ]
  },
  {
   "cell_type": "markdown",
   "metadata": {
    "colab_type": "text",
    "id": "O-dxAy0WFcu9"
   },
   "source": [
    "Weird. The data type for the column 'Price' is 'object', not a numeric data type like a float or an integer. Let's investigate the unique values of this column. "
   ]
  },
  {
   "cell_type": "code",
   "execution_count": 8,
   "metadata": {
    "colab": {},
    "colab_type": "code",
    "id": "Hu08K9y7Fcu9"
   },
   "outputs": [
    {
     "data": {
      "text/plain": [
       "array(['0', '$4.99', '$3.99', '$6.99', '$1.49', '$2.99', '$7.99', '$5.99',\n",
       "       '$3.49', '$1.99', '$9.99', '$7.49', '$0.99', '$9.00', '$5.49',\n",
       "       '$10.00', '$24.99', '$11.99', '$79.99', '$16.99', '$14.99',\n",
       "       '$1.00', '$29.99', '$12.99', '$2.49', '$10.99', '$1.50', '$19.99',\n",
       "       '$15.99', '$33.99', '$74.99', '$39.99', '$3.95', '$4.49', '$1.70',\n",
       "       '$8.99', '$2.00', '$3.88', '$25.99', '$399.99', '$17.99',\n",
       "       '$400.00', '$3.02', '$1.76', '$4.84', '$4.77', '$1.61', '$2.50',\n",
       "       '$1.59', '$6.49', '$1.29', '$5.00', '$13.99', '$299.99', '$379.99',\n",
       "       '$37.99', '$18.99', '$389.99', '$19.90', '$8.49', '$1.75',\n",
       "       '$14.00', '$4.85', '$46.99', '$109.99', '$154.99', '$3.08',\n",
       "       '$2.59', '$4.80', '$1.96', '$19.40', '$3.90', '$4.59', '$15.46',\n",
       "       '$3.04', '$4.29', '$2.60', '$3.28', '$4.60', '$28.99', '$2.95',\n",
       "       '$2.90', '$1.97', '$200.00', '$89.99', '$2.56', '$30.99', '$3.61',\n",
       "       '$394.99', '$1.26', 'Everyone', '$1.20', '$1.04'], dtype=object)"
      ]
     },
     "execution_count": 8,
     "metadata": {},
     "output_type": "execute_result"
    }
   ],
   "source": [
    "# Use the unique() pandas method on the Price column to check its unique values. \n",
    "Google.Price.unique()"
   ]
  },
  {
   "cell_type": "markdown",
   "metadata": {
    "colab_type": "text",
    "id": "w_7nkogFFcu_"
   },
   "source": [
    "Aha! Fascinating. There are actually two issues here. \n",
    "\n",
    "- Firstly, there's a price called `Everyone`. That is a massive mistake! \n",
    "- Secondly, there are dollar symbols everywhere! \n",
    "\n",
    "\n",
    "Let's address the first issue first. Let's check the datapoints that have the price value `Everyone`"
   ]
  },
  {
   "cell_type": "code",
   "execution_count": 9,
   "metadata": {
    "colab": {},
    "colab_type": "code",
    "id": "E75WWmhdFcvA"
   },
   "outputs": [
    {
     "data": {
      "text/html": [
       "<div>\n",
       "<style scoped>\n",
       "    .dataframe tbody tr th:only-of-type {\n",
       "        vertical-align: middle;\n",
       "    }\n",
       "\n",
       "    .dataframe tbody tr th {\n",
       "        vertical-align: top;\n",
       "    }\n",
       "\n",
       "    .dataframe thead th {\n",
       "        text-align: right;\n",
       "    }\n",
       "</style>\n",
       "<table border=\"1\" class=\"dataframe\">\n",
       "  <thead>\n",
       "    <tr style=\"text-align: right;\">\n",
       "      <th></th>\n",
       "      <th>Category</th>\n",
       "      <th>Rating</th>\n",
       "      <th>Reviews</th>\n",
       "      <th>Price</th>\n",
       "    </tr>\n",
       "  </thead>\n",
       "  <tbody>\n",
       "    <tr>\n",
       "      <th>10472</th>\n",
       "      <td>1.9</td>\n",
       "      <td>19.0</td>\n",
       "      <td>3.0M</td>\n",
       "      <td>Everyone</td>\n",
       "    </tr>\n",
       "  </tbody>\n",
       "</table>\n",
       "</div>"
      ],
      "text/plain": [
       "      Category  Rating Reviews     Price\n",
       "10472      1.9    19.0    3.0M  Everyone"
      ]
     },
     "execution_count": 9,
     "metadata": {},
     "output_type": "execute_result"
    }
   ],
   "source": [
    "# Let's check which data points have the value 'Everyone' for the 'Price' column by subsetting our Google dataframe.\n",
    "\n",
    "# Subset the Google dataframe on the price column. \n",
    "# To be sure: you want to pick out just those rows whose value for the 'Price' column is just 'Everyone'. \n",
    "Google[Google['Price'] == 'Everyone']"
   ]
  },
  {
   "cell_type": "markdown",
   "metadata": {
    "colab_type": "text",
    "id": "ezfLshdRFcvC"
   },
   "source": [
    "Thankfully, it's just one row. We've gotta get rid of it. "
   ]
  },
  {
   "cell_type": "code",
   "execution_count": 10,
   "metadata": {
    "colab": {},
    "colab_type": "code",
    "id": "DBmjUQUkFcvD"
   },
   "outputs": [
    {
     "data": {
      "text/plain": [
       "array(['0', '$4.99', '$3.99', '$6.99', '$1.49', '$2.99', '$7.99', '$5.99',\n",
       "       '$3.49', '$1.99', '$9.99', '$7.49', '$0.99', '$9.00', '$5.49',\n",
       "       '$10.00', '$24.99', '$11.99', '$79.99', '$16.99', '$14.99',\n",
       "       '$1.00', '$29.99', '$12.99', '$2.49', '$10.99', '$1.50', '$19.99',\n",
       "       '$15.99', '$33.99', '$74.99', '$39.99', '$3.95', '$4.49', '$1.70',\n",
       "       '$8.99', '$2.00', '$3.88', '$25.99', '$399.99', '$17.99',\n",
       "       '$400.00', '$3.02', '$1.76', '$4.84', '$4.77', '$1.61', '$2.50',\n",
       "       '$1.59', '$6.49', '$1.29', '$5.00', '$13.99', '$299.99', '$379.99',\n",
       "       '$37.99', '$18.99', '$389.99', '$19.90', '$8.49', '$1.75',\n",
       "       '$14.00', '$4.85', '$46.99', '$109.99', '$154.99', '$3.08',\n",
       "       '$2.59', '$4.80', '$1.96', '$19.40', '$3.90', '$4.59', '$15.46',\n",
       "       '$3.04', '$4.29', '$2.60', '$3.28', '$4.60', '$28.99', '$2.95',\n",
       "       '$2.90', '$1.97', '$200.00', '$89.99', '$2.56', '$30.99', '$3.61',\n",
       "       '$394.99', '$1.26', '$1.20', '$1.04'], dtype=object)"
      ]
     },
     "execution_count": 10,
     "metadata": {},
     "output_type": "execute_result"
    }
   ],
   "source": [
    "# Let's eliminate that row. \n",
    "\n",
    "# Subset our Google dataframe to pick out just those rows whose value for the 'Price' column is NOT 'Everyone'. \n",
    "# Reassign that subset to the Google variable. \n",
    "# You can do this in two lines or one. Your choice! \n",
    "Google = Google[Google['Price'] != 'Everyone']\n",
    "\n",
    "# Check again the unique values of Google\n",
    "Google.Price.unique()"
   ]
  },
  {
   "cell_type": "markdown",
   "metadata": {
    "colab_type": "text",
    "id": "T43TB4qFFcvF"
   },
   "source": [
    "Our second problem remains: I'm seeing dollar symbols when I close my eyes! (And not in a good way). \n",
    "\n",
    "This is a problem because Python actually considers these values strings. So we can't do mathematical and statistical operations on them until we've made them into numbers. "
   ]
  },
  {
   "cell_type": "code",
   "execution_count": 11,
   "metadata": {
    "colab": {},
    "colab_type": "code",
    "id": "W87gVS9BFcvG"
   },
   "outputs": [],
   "source": [
    "# Let's create a variable called nosymb.\n",
    "# This variable will take the Price column of Google and apply the str.replace() method. \n",
    "nosymb = Google['Price'].str.replace('$','')\n",
    "\n",
    "# Now we need to do two things:\n",
    "# i. Make the values in the nosymb variable numeric using the to_numeric() pandas method.\n",
    "# ii. Assign this new set of numeric, dollar-sign-less values to Google['Price']. \n",
    "# You can do this in one line if you wish.\n",
    "Google['Price'] = pd.to_numeric(nosymb)"
   ]
  },
  {
   "cell_type": "markdown",
   "metadata": {
    "colab_type": "text",
    "id": "LxpJQ9yyFcvI"
   },
   "source": [
    "Now let's check the data types for our Google dataframe again, to verify that the 'Price' column really is numeric now."
   ]
  },
  {
   "cell_type": "code",
   "execution_count": 12,
   "metadata": {
    "colab": {},
    "colab_type": "code",
    "id": "Fn5Gt-QbFcvI"
   },
   "outputs": [
    {
     "data": {
      "text/plain": [
       "dtype('float64')"
      ]
     },
     "execution_count": 12,
     "metadata": {},
     "output_type": "execute_result"
    }
   ],
   "source": [
    "# Use the function dtypes. \n",
    "Google['Price'].dtypes"
   ]
  },
  {
   "cell_type": "markdown",
   "metadata": {
    "colab_type": "text",
    "id": "FgfuiVo0FcvK"
   },
   "source": [
    "Notice that the column `Reviews` is still an object column. We actually need this column to be a numeric column, too. "
   ]
  },
  {
   "cell_type": "code",
   "execution_count": 13,
   "metadata": {
    "colab": {},
    "colab_type": "code",
    "id": "MiVEWsWBFcvL"
   },
   "outputs": [],
   "source": [
    "# Convert the 'Reviews' column to a numeric data type. \n",
    "Google['Reviews'] = pd.to_numeric(Google['Price'])"
   ]
  },
  {
   "cell_type": "code",
   "execution_count": 14,
   "metadata": {
    "colab": {},
    "colab_type": "code",
    "id": "wWJdXXTTFcvN"
   },
   "outputs": [
    {
     "data": {
      "text/plain": [
       "Category     object\n",
       "Rating      float64\n",
       "Reviews     float64\n",
       "Price       float64\n",
       "dtype: object"
      ]
     },
     "execution_count": 14,
     "metadata": {},
     "output_type": "execute_result"
    }
   ],
   "source": [
    "# Let's check the data types of Google again\n",
    "Google.dtypes"
   ]
  },
  {
   "cell_type": "markdown",
   "metadata": {
    "colab_type": "text",
    "id": "OiLm2GEKFcvP"
   },
   "source": [
    "### 2b. Add a `platform` column to both the `Apple` and the `Google` dataframes\n",
    "Let's add a new column to both dataframe objects called `platform`: all of its values in the Google dataframe will be just 'google', and all of its values for the Apple dataframe will be just 'apple'. \n",
    "\n",
    "The reason we're making this column is so that we can ultimately join our Apple and Google data together, and actually test out some hypotheses to solve the problem in our brief. "
   ]
  },
  {
   "cell_type": "code",
   "execution_count": 15,
   "metadata": {
    "colab": {},
    "colab_type": "code",
    "id": "mF-sOcx2FcvQ"
   },
   "outputs": [],
   "source": [
    "# Create a column called 'platform' in both the Apple and Google dataframes. \n",
    "# Add the value 'apple' and the value 'google' as appropriate. \n",
    "Apple['platform'] = 'apple'\n",
    "Google['platform'] = 'google'"
   ]
  },
  {
   "cell_type": "markdown",
   "metadata": {
    "colab_type": "text",
    "id": "EJcry17IFcvS"
   },
   "source": [
    "### 2c. Changing the column names to prepare for our join of the two datasets \n",
    "Since the easiest way to join two datasets is if they have both:\n",
    "- the same number of columns\n",
    "- the same column names\n",
    "we need to rename the columns of `Apple` so that they're the same as the ones of `Google`, or vice versa.\n",
    "\n",
    "In this case, we're going to change the `Apple` columns names to the names of the `Google` columns. \n",
    "\n",
    "This is an important step to unify the two datasets!"
   ]
  },
  {
   "cell_type": "code",
   "execution_count": 16,
   "metadata": {
    "colab": {},
    "colab_type": "code",
    "id": "bdt9XH2KFcvT"
   },
   "outputs": [],
   "source": [
    "# Create a variable called old_names where you'll store the column names of the Apple dataframe. \n",
    "# Use the feature .columns.\n",
    "old_names = Apple.columns\n",
    "\n",
    "# Create a variable called new_names where you'll store the column names of the Google dataframe. \n",
    "new_names = Google.columns\n",
    "\n",
    "# Use the rename() DataFrame method to change the columns names. \n",
    "Apple = Apple.rename(columns=dict(zip(old_names,new_names)))"
   ]
  },
  {
   "cell_type": "markdown",
   "metadata": {
    "colab_type": "text",
    "id": "qewPiLrRFcvX"
   },
   "source": [
    "### 2d. Join the two datasets \n",
    "Let's combine the two datasets into a single data frame called `df`."
   ]
  },
  {
   "cell_type": "code",
   "execution_count": 17,
   "metadata": {
    "colab": {},
    "colab_type": "code",
    "id": "jq6fGfvyFcvY"
   },
   "outputs": [
    {
     "data": {
      "text/html": [
       "<div>\n",
       "<style scoped>\n",
       "    .dataframe tbody tr th:only-of-type {\n",
       "        vertical-align: middle;\n",
       "    }\n",
       "\n",
       "    .dataframe tbody tr th {\n",
       "        vertical-align: top;\n",
       "    }\n",
       "\n",
       "    .dataframe thead th {\n",
       "        text-align: right;\n",
       "    }\n",
       "</style>\n",
       "<table border=\"1\" class=\"dataframe\">\n",
       "  <thead>\n",
       "    <tr style=\"text-align: right;\">\n",
       "      <th></th>\n",
       "      <th>Category</th>\n",
       "      <th>Rating</th>\n",
       "      <th>Reviews</th>\n",
       "      <th>Price</th>\n",
       "      <th>platform</th>\n",
       "    </tr>\n",
       "  </thead>\n",
       "  <tbody>\n",
       "    <tr>\n",
       "      <th>6965</th>\n",
       "      <td>GAME</td>\n",
       "      <td>NaN</td>\n",
       "      <td>0.0</td>\n",
       "      <td>0.00</td>\n",
       "      <td>google</td>\n",
       "    </tr>\n",
       "    <tr>\n",
       "      <th>10999</th>\n",
       "      <td>News</td>\n",
       "      <td>3.5</td>\n",
       "      <td>32881.0</td>\n",
       "      <td>0.00</td>\n",
       "      <td>apple</td>\n",
       "    </tr>\n",
       "    <tr>\n",
       "      <th>2215</th>\n",
       "      <td>FAMILY</td>\n",
       "      <td>4.2</td>\n",
       "      <td>0.0</td>\n",
       "      <td>0.00</td>\n",
       "      <td>google</td>\n",
       "    </tr>\n",
       "    <tr>\n",
       "      <th>8535</th>\n",
       "      <td>VIDEO_PLAYERS</td>\n",
       "      <td>4.2</td>\n",
       "      <td>0.0</td>\n",
       "      <td>0.00</td>\n",
       "      <td>google</td>\n",
       "    </tr>\n",
       "    <tr>\n",
       "      <th>41</th>\n",
       "      <td>ART_AND_DESIGN</td>\n",
       "      <td>4.5</td>\n",
       "      <td>0.0</td>\n",
       "      <td>0.00</td>\n",
       "      <td>google</td>\n",
       "    </tr>\n",
       "    <tr>\n",
       "      <th>9184</th>\n",
       "      <td>PERSONALIZATION</td>\n",
       "      <td>4.2</td>\n",
       "      <td>0.0</td>\n",
       "      <td>0.00</td>\n",
       "      <td>google</td>\n",
       "    </tr>\n",
       "    <tr>\n",
       "      <th>17201</th>\n",
       "      <td>Games</td>\n",
       "      <td>3.5</td>\n",
       "      <td>135.0</td>\n",
       "      <td>0.00</td>\n",
       "      <td>apple</td>\n",
       "    </tr>\n",
       "    <tr>\n",
       "      <th>11998</th>\n",
       "      <td>Education</td>\n",
       "      <td>4.0</td>\n",
       "      <td>3048.0</td>\n",
       "      <td>2.99</td>\n",
       "      <td>apple</td>\n",
       "    </tr>\n",
       "    <tr>\n",
       "      <th>16641</th>\n",
       "      <td>Games</td>\n",
       "      <td>4.5</td>\n",
       "      <td>820.0</td>\n",
       "      <td>0.00</td>\n",
       "      <td>apple</td>\n",
       "    </tr>\n",
       "    <tr>\n",
       "      <th>8889</th>\n",
       "      <td>SPORTS</td>\n",
       "      <td>4.1</td>\n",
       "      <td>0.0</td>\n",
       "      <td>0.00</td>\n",
       "      <td>google</td>\n",
       "    </tr>\n",
       "    <tr>\n",
       "      <th>7005</th>\n",
       "      <td>FAMILY</td>\n",
       "      <td>4.5</td>\n",
       "      <td>0.0</td>\n",
       "      <td>0.00</td>\n",
       "      <td>google</td>\n",
       "    </tr>\n",
       "    <tr>\n",
       "      <th>5244</th>\n",
       "      <td>VIDEO_PLAYERS</td>\n",
       "      <td>4.8</td>\n",
       "      <td>0.0</td>\n",
       "      <td>0.00</td>\n",
       "      <td>google</td>\n",
       "    </tr>\n",
       "  </tbody>\n",
       "</table>\n",
       "</div>"
      ],
      "text/plain": [
       "              Category  Rating  Reviews  Price platform\n",
       "6965              GAME     NaN      0.0   0.00   google\n",
       "10999             News     3.5  32881.0   0.00    apple\n",
       "2215            FAMILY     4.2      0.0   0.00   google\n",
       "8535     VIDEO_PLAYERS     4.2      0.0   0.00   google\n",
       "41      ART_AND_DESIGN     4.5      0.0   0.00   google\n",
       "9184   PERSONALIZATION     4.2      0.0   0.00   google\n",
       "17201            Games     3.5    135.0   0.00    apple\n",
       "11998        Education     4.0   3048.0   2.99    apple\n",
       "16641            Games     4.5    820.0   0.00    apple\n",
       "8889            SPORTS     4.1      0.0   0.00   google\n",
       "7005            FAMILY     4.5      0.0   0.00   google\n",
       "5244     VIDEO_PLAYERS     4.8      0.0   0.00   google"
      ]
     },
     "execution_count": 17,
     "metadata": {},
     "output_type": "execute_result"
    }
   ],
   "source": [
    "# Let's use the append() method to append Apple to Google. \n",
    "df = Google.append(Apple, ignore_index = True)\n",
    "\n",
    "# Using the sample() method with the number 12 passed to it, check 12 random points of your dataset.\n",
    "df.sample(12)"
   ]
  },
  {
   "cell_type": "markdown",
   "metadata": {
    "colab_type": "text",
    "id": "FjqsHugWFcvb"
   },
   "source": [
    "### 2e. Eliminate the NaN values\n",
    "\n",
    "As you can see there are some `NaN` values. We want to eliminate all these `NaN` values from the table."
   ]
  },
  {
   "cell_type": "code",
   "execution_count": 18,
   "metadata": {
    "colab": {},
    "colab_type": "code",
    "id": "Gp2q6GLyFcvb"
   },
   "outputs": [
    {
     "name": "stdout",
     "output_type": "stream",
     "text": [
      "(18037, 5)\n",
      "(16563, 5)\n"
     ]
    }
   ],
   "source": [
    "# Lets check first the dimesions of df before droping `NaN` values. Use the .shape feature. \n",
    "print(df.shape)\n",
    "\n",
    "# Use the dropna() method to eliminate all the NaN values, and overwrite the same dataframe with the result. \n",
    "df = df.dropna()\n",
    "\n",
    "# Check the new dimesions of our dataframe. \n",
    "print(df.shape)"
   ]
  },
  {
   "cell_type": "markdown",
   "metadata": {
    "colab_type": "text",
    "id": "qtfeQKtAFcvd"
   },
   "source": [
    "### 2f. Filter the data so that we only see whose apps that have been reviewed at least once\n",
    "\n",
    "Apps that haven't been reviewed yet can't help us solve our brief. \n",
    "\n",
    "So let's check to see if any apps have no reviews at all. "
   ]
  },
  {
   "cell_type": "code",
   "execution_count": 19,
   "metadata": {
    "colab": {},
    "colab_type": "code",
    "id": "Ge9OKXLNFcvd"
   },
   "outputs": [
    {
     "data": {
      "text/plain": [
       "Category    9648\n",
       "Rating      9648\n",
       "Reviews     9648\n",
       "Price       9648\n",
       "platform    9648\n",
       "dtype: int64"
      ]
     },
     "execution_count": 19,
     "metadata": {},
     "output_type": "execute_result"
    }
   ],
   "source": [
    "# Subset your df to pick out just those rows whose value for 'Reviews' is equal to 0. \n",
    "# Do a count() on the result. \n",
    "df[df['Reviews']== 0].count()"
   ]
  },
  {
   "cell_type": "markdown",
   "metadata": {
    "colab_type": "text",
    "id": "05f7H0kAFcvg"
   },
   "source": [
    "929 apps do not have reviews, we need to eliminate these points!"
   ]
  },
  {
   "cell_type": "code",
   "execution_count": 20,
   "metadata": {
    "colab": {},
    "colab_type": "code",
    "id": "pD8vmPjkFcvg"
   },
   "outputs": [
    {
     "data": {
      "text/plain": [
       "(6915, 5)"
      ]
     },
     "execution_count": 20,
     "metadata": {},
     "output_type": "execute_result"
    }
   ],
   "source": [
    "# Eliminate the points that have 0 reviews.\n",
    "df = df[df['Reviews']!= 0]\n",
    "df.shape"
   ]
  },
  {
   "cell_type": "markdown",
   "metadata": {
    "colab_type": "text",
    "id": "ApnKES_bFcvi"
   },
   "source": [
    "### 2g. Summarize the data visually and analytically (by the column `platform`)"
   ]
  },
  {
   "cell_type": "markdown",
   "metadata": {
    "colab_type": "text",
    "id": "2smt9UocFcvj"
   },
   "source": [
    "What we need to solve our brief is a summary of the `Rating` column, but separated by the different platforms."
   ]
  },
  {
   "cell_type": "code",
   "execution_count": 21,
   "metadata": {
    "colab": {},
    "colab_type": "code",
    "id": "Vqckt347Fcvj"
   },
   "outputs": [
    {
     "data": {
      "text/html": [
       "<div>\n",
       "<style scoped>\n",
       "    .dataframe tbody tr th:only-of-type {\n",
       "        vertical-align: middle;\n",
       "    }\n",
       "\n",
       "    .dataframe tbody tr th {\n",
       "        vertical-align: top;\n",
       "    }\n",
       "\n",
       "    .dataframe thead th {\n",
       "        text-align: right;\n",
       "    }\n",
       "</style>\n",
       "<table border=\"1\" class=\"dataframe\">\n",
       "  <thead>\n",
       "    <tr style=\"text-align: right;\">\n",
       "      <th></th>\n",
       "      <th>count</th>\n",
       "      <th>mean</th>\n",
       "      <th>std</th>\n",
       "      <th>min</th>\n",
       "      <th>25%</th>\n",
       "      <th>50%</th>\n",
       "      <th>75%</th>\n",
       "      <th>max</th>\n",
       "    </tr>\n",
       "    <tr>\n",
       "      <th>platform</th>\n",
       "      <th></th>\n",
       "      <th></th>\n",
       "      <th></th>\n",
       "      <th></th>\n",
       "      <th></th>\n",
       "      <th></th>\n",
       "      <th></th>\n",
       "      <th></th>\n",
       "    </tr>\n",
       "  </thead>\n",
       "  <tbody>\n",
       "    <tr>\n",
       "      <th>apple</th>\n",
       "      <td>6268.0</td>\n",
       "      <td>4.049697</td>\n",
       "      <td>0.726943</td>\n",
       "      <td>1.0</td>\n",
       "      <td>4.0</td>\n",
       "      <td>4.5</td>\n",
       "      <td>4.5</td>\n",
       "      <td>5.0</td>\n",
       "    </tr>\n",
       "    <tr>\n",
       "      <th>google</th>\n",
       "      <td>647.0</td>\n",
       "      <td>4.266615</td>\n",
       "      <td>0.547523</td>\n",
       "      <td>1.0</td>\n",
       "      <td>4.1</td>\n",
       "      <td>4.4</td>\n",
       "      <td>4.6</td>\n",
       "      <td>5.0</td>\n",
       "    </tr>\n",
       "  </tbody>\n",
       "</table>\n",
       "</div>"
      ],
      "text/plain": [
       "           count      mean       std  min  25%  50%  75%  max\n",
       "platform                                                     \n",
       "apple     6268.0  4.049697  0.726943  1.0  4.0  4.5  4.5  5.0\n",
       "google     647.0  4.266615  0.547523  1.0  4.1  4.4  4.6  5.0"
      ]
     },
     "execution_count": 21,
     "metadata": {},
     "output_type": "execute_result"
    }
   ],
   "source": [
    "# To summarize analytically, let's use the groupby() method on our df.\n",
    "df.groupby('platform')['Rating'].describe()"
   ]
  },
  {
   "cell_type": "markdown",
   "metadata": {
    "colab_type": "text",
    "id": "8f9TqMtKFcvl"
   },
   "source": [
    "Interesting! Our means of 4.049697 and 4.191757 don't **seem** all that different! Perhaps we've solved our brief already: there's no significant difference between Google Play app reviews and Apple Store app reviews. We have an ***observed difference*** here: which is simply (4.191757 - 4.049697) = 0.14206. This is just the actual difference that we observed between the mean rating for apps from Google Play, and the mean rating for apps from the Apple Store. Let's look at how we're going to use this observed difference to solve our problem using a statistical test. \n",
    "\n",
    "**Outline of our method:**\n",
    "1. We'll assume that platform (i.e, whether the app was Google or Apple) really doesn’t impact on ratings. \n",
    "\n",
    "\n",
    "2. Given this assumption, we should actually be able to get a difference in mean rating for Apple apps and mean rating for Google apps that's pretty similar to the one we actually got (0.14206) just by: \n",
    "a. shuffling the ratings column, \n",
    "b. keeping the platform column the same,\n",
    "c. calculating the difference between the mean rating for Apple and the mean rating for Google. \n",
    "\n",
    "\n",
    "3. We can make the shuffle more useful by doing it many times, each time calculating the mean rating for Apple apps and the mean rating for Google apps, and the difference between these means. \n",
    "\n",
    "\n",
    "4. We can then take the mean of all these differences, and this will be called our permutation difference. This permutation difference will be great indicator of what the difference would be if our initial assumption were true and platform really doesn’t impact on ratings. \n",
    "\n",
    "\n",
    "5. Now we do a comparison. If the observed difference looks just like the permutation difference, then we stick with the claim that actually, platform doesn’t impact on ratings. If instead, however, the permutation difference differs significantly from the observed difference, we'll conclude: something's going on; the platform does in fact impact on ratings. \n",
    "\n",
    "\n",
    "6. As for what the definition of *significantly* is, we'll get to that. But there’s a brief summary of what we're going to do. Exciting!\n",
    "\n",
    "If you want to look more deeply at the statistics behind this project, check out [this resource](https://www.springboard.com/archeio/download/4ea4d453b0b84014bcef287c50f47f00/)."
   ]
  },
  {
   "cell_type": "markdown",
   "metadata": {
    "colab_type": "text",
    "id": "d6EhTxArFcvm"
   },
   "source": [
    "Let's also get a **visual summary** of the `Rating` column, separated by the different platforms. \n",
    "\n",
    "A good tool to use here is the boxplot!"
   ]
  },
  {
   "cell_type": "code",
   "execution_count": 22,
   "metadata": {
    "colab": {},
    "colab_type": "code",
    "id": "hFKjrlWgFcvm"
   },
   "outputs": [
    {
     "data": {
      "text/plain": [
       "<matplotlib.axes._subplots.AxesSubplot at 0x7f8ddb359c50>"
      ]
     },
     "execution_count": 22,
     "metadata": {},
     "output_type": "execute_result"
    },
    {
     "data": {
      "image/png": "[encoded data removed]",
      "text/plain": [
       "<Figure size 432x288 with 1 Axes>"
      ]
     },
     "metadata": {
      "needs_background": "light"
     },
     "output_type": "display_data"
    }
   ],
   "source": [
    "# Call the boxplot() method on our df.\n",
    "df.boxplot(column='Rating', by='platform', grid=False, rot=45, fontsize=15)"
   ]
  },
  {
   "cell_type": "markdown",
   "metadata": {
    "colab_type": "text",
    "id": "FqTlAjnmFcvo"
   },
   "source": [
    "Here we see the same information as in the analytical summary, but with a boxplot. Can you see how the boxplot is working here? If you need to revise your boxplots, check out this this [link](https://www.kaggle.com/ramamet4/app-store-apple-data-set-10k-apps). "
   ]
  },
  {
   "cell_type": "markdown",
   "metadata": {
    "colab_type": "text",
    "id": "O8L-s1fgFcvp"
   },
   "source": [
    "## Stage 3 - Modelling"
   ]
  },
  {
   "cell_type": "markdown",
   "metadata": {
    "colab_type": "text",
    "id": "5fbRq2MZFcvq"
   },
   "source": [
    "### 3a. Hypothesis formulation\n",
    "\n",
    "Our **Null hypothesis** is just:\n",
    "\n",
    "**H<sub>null</sub>**: the observed difference in the mean rating of Apple Store and Google Play apps is due to chance (and thus not due to the platform).\n",
    "\n",
    "The more interesting hypothesis is called the **Alternate hypothesis**:\n",
    "\n",
    "**H<sub>alternative</sub>**: the observed difference in the average ratings of apple and google users is not due to chance (and is actually due to platform)\n",
    "\n",
    "We're also going to pick a **significance level** of 0.05. "
   ]
  },
  {
   "cell_type": "markdown",
   "metadata": {
    "colab_type": "text",
    "id": "TjBqkabaFcvq"
   },
   "source": [
    "### 3b. Getting the distribution of the data\n",
    "Now that the hypotheses and significance level are defined, we can select a statistical test to determine which hypothesis to accept. \n",
    "\n",
    "There are many different statistical tests, all with different assumptions. You'll generate an excellent judgement about when to use which statistical tests over the Data Science Career Track course. But in general, one of the most important things to determine is the **distribution of the data**.   "
   ]
  },
  {
   "cell_type": "code",
   "execution_count": 29,
   "metadata": {
    "colab": {},
    "colab_type": "code",
    "id": "bFwVhkeWFcvr"
   },
   "outputs": [],
   "source": [
    "# Create a subset of the column 'Rating' by the different platforms.\n",
    "# Call the subsets 'apple' and 'google' \n",
    "apple = df[df['platform'] == 'apple']['Rating']\n",
    "google = df[df['platform'] == 'google']['Rating']"
   ]
  },
  {
   "cell_type": "code",
   "execution_count": 30,
   "metadata": {
    "colab": {},
    "colab_type": "code",
    "id": "oPPFpwPvFcvu"
   },
   "outputs": [
    {
     "name": "stdout",
     "output_type": "stream",
     "text": [
      "NormaltestResult(statistic=1778.9974234584017, pvalue=0.0)\n"
     ]
    }
   ],
   "source": [
    "# Using the stats.normaltest() method, get an indication of whether the apple data are normally distributed\n",
    "# Save the result in a variable called apple_normal, and print it out\n",
    "apple_normal = stats.normaltest(apple)\n",
    "print(apple_normal)"
   ]
  },
  {
   "cell_type": "code",
   "execution_count": 31,
   "metadata": {
    "colab": {},
    "colab_type": "code",
    "id": "rCdh8a8KFcvw"
   },
   "outputs": [
    {
     "name": "stdout",
     "output_type": "stream",
     "text": [
      "NormaltestResult(statistic=285.4265367481438, pvalue=1.0481297563638832e-62)\n"
     ]
    }
   ],
   "source": [
    "# Do the same with the google data. \n",
    "google_normal = stats.normaltest(google)\n",
    "print(google_normal)"
   ]
  },
  {
   "cell_type": "markdown",
   "metadata": {
    "colab_type": "text",
    "id": "9gDqu21yFcv0"
   },
   "source": [
    "Since the null hypothesis of the normaltest() is that the data are normally distributed, the lower the p-value in the result of this test, the more likely the data are to be non-normal. \n",
    "\n",
    "Since the p-values is 0 for both tests, regardless of what we pick for the significance level, our conclusion is that the data are not normally distributed. \n",
    "\n",
    "We can actually also check out the distribution of the data visually with a histogram. A normal distribution has the following visual characteristics:\n",
    "    - symmetric\n",
    "    - unimodal (one hump)\n",
    "As well as a roughly identical mean, median and mode. "
   ]
  },
  {
   "cell_type": "code",
   "execution_count": 32,
   "metadata": {
    "colab": {},
    "colab_type": "code",
    "id": "P9tT9RjNFcv1"
   },
   "outputs": [
    {
     "data": {
      "image/png": "[encoded data removed]",
      "text/plain": [
       "<Figure size 432x288 with 1 Axes>"
      ]
     },
     "metadata": {
      "needs_background": "light"
     },
     "output_type": "display_data"
    }
   ],
   "source": [
    "# Create a histogram of the apple reviews distribution\n",
    "histoApple = plt.hist(_ _ _)"
   ]
  },
  {
   "cell_type": "code",
   "execution_count": 33,
   "metadata": {
    "colab": {},
    "colab_type": "code",
    "id": "8dE1uC5iFcv2"
   },
   "outputs": [
    {
     "data": {
      "image/png": "[encoded data removed]",
      "text/plain": [
       "<Figure size 432x288 with 1 Axes>"
      ]
     },
     "metadata": {
      "needs_background": "light"
     },
     "output_type": "display_data"
    }
   ],
   "source": [
    "# Create a histogram of the google data\n",
    "histoGoogle = plt.hist(google)"
   ]
  },
  {
   "cell_type": "markdown",
   "metadata": {
    "colab_type": "text",
    "id": "QhZV89FzFcv5"
   },
   "source": [
    "### 3c. Permutation test\n",
    "Since the data aren't normally distributed, we're using a *non-parametric* test here. This is simply a label for statistical tests used when the data aren't normally distributed. These tests are extraordinarily powerful due to how few assumptions we need to make.  \n",
    "\n",
    "Check out more about permutations [here.](http://rasbt.github.io/mlxtend/user_guide/evaluate/permutation_test/)"
   ]
  },
  {
   "cell_type": "code",
   "execution_count": 34,
   "metadata": {
    "colab": {},
    "colab_type": "code",
    "id": "bxNhQgpqFcv6"
   },
   "outputs": [
    {
     "data": {
      "text/html": [
       "<div>\n",
       "<style scoped>\n",
       "    .dataframe tbody tr th:only-of-type {\n",
       "        vertical-align: middle;\n",
       "    }\n",
       "\n",
       "    .dataframe tbody tr th {\n",
       "        vertical-align: top;\n",
       "    }\n",
       "\n",
       "    .dataframe thead th {\n",
       "        text-align: right;\n",
       "    }\n",
       "</style>\n",
       "<table border=\"1\" class=\"dataframe\">\n",
       "  <thead>\n",
       "    <tr style=\"text-align: right;\">\n",
       "      <th></th>\n",
       "      <th>count</th>\n",
       "      <th>mean</th>\n",
       "      <th>std</th>\n",
       "      <th>min</th>\n",
       "      <th>25%</th>\n",
       "      <th>50%</th>\n",
       "      <th>75%</th>\n",
       "      <th>max</th>\n",
       "    </tr>\n",
       "    <tr>\n",
       "      <th>platform</th>\n",
       "      <th></th>\n",
       "      <th></th>\n",
       "      <th></th>\n",
       "      <th></th>\n",
       "      <th></th>\n",
       "      <th></th>\n",
       "      <th></th>\n",
       "      <th></th>\n",
       "    </tr>\n",
       "  </thead>\n",
       "  <tbody>\n",
       "    <tr>\n",
       "      <th>apple</th>\n",
       "      <td>6268.0</td>\n",
       "      <td>4.070118</td>\n",
       "      <td>0.715801</td>\n",
       "      <td>1.0</td>\n",
       "      <td>4.0</td>\n",
       "      <td>4.4</td>\n",
       "      <td>4.5</td>\n",
       "      <td>5.0</td>\n",
       "    </tr>\n",
       "    <tr>\n",
       "      <th>google</th>\n",
       "      <td>647.0</td>\n",
       "      <td>4.068779</td>\n",
       "      <td>0.706000</td>\n",
       "      <td>1.0</td>\n",
       "      <td>4.0</td>\n",
       "      <td>4.5</td>\n",
       "      <td>4.5</td>\n",
       "      <td>5.0</td>\n",
       "    </tr>\n",
       "  </tbody>\n",
       "</table>\n",
       "</div>"
      ],
      "text/plain": [
       "           count      mean       std  min  25%  50%  75%  max\n",
       "platform                                                     \n",
       "apple     6268.0  4.070118  0.715801  1.0  4.0  4.4  4.5  5.0\n",
       "google     647.0  4.068779  0.706000  1.0  4.0  4.5  4.5  5.0"
      ]
     },
     "execution_count": 34,
     "metadata": {},
     "output_type": "execute_result"
    }
   ],
   "source": [
    "# Create a column called `Permutation1`, and assign to it the result of permuting (shuffling) the Rating column\n",
    "# This assignment will use our numpy object's random.permutation() method\n",
    "df['Permutation1'] = np.random.permutation(df['Rating'])\n",
    "\n",
    "# Call the describe() method on our permutation grouped by 'platform'. \n",
    "df.groupby(by='platform')['Permutation1'].describe()"
   ]
  },
  {
   "cell_type": "code",
   "execution_count": 35,
   "metadata": {
    "colab": {},
    "colab_type": "code",
    "id": "AaGNfPGTFcv7"
   },
   "outputs": [
    {
     "data": {
      "text/html": [
       "<div>\n",
       "<style scoped>\n",
       "    .dataframe tbody tr th:only-of-type {\n",
       "        vertical-align: middle;\n",
       "    }\n",
       "\n",
       "    .dataframe tbody tr th {\n",
       "        vertical-align: top;\n",
       "    }\n",
       "\n",
       "    .dataframe thead th {\n",
       "        text-align: right;\n",
       "    }\n",
       "</style>\n",
       "<table border=\"1\" class=\"dataframe\">\n",
       "  <thead>\n",
       "    <tr style=\"text-align: right;\">\n",
       "      <th></th>\n",
       "      <th>count</th>\n",
       "      <th>mean</th>\n",
       "      <th>std</th>\n",
       "      <th>min</th>\n",
       "      <th>25%</th>\n",
       "      <th>50%</th>\n",
       "      <th>75%</th>\n",
       "      <th>max</th>\n",
       "    </tr>\n",
       "    <tr>\n",
       "      <th>platform</th>\n",
       "      <th></th>\n",
       "      <th></th>\n",
       "      <th></th>\n",
       "      <th></th>\n",
       "      <th></th>\n",
       "      <th></th>\n",
       "      <th></th>\n",
       "      <th></th>\n",
       "    </tr>\n",
       "  </thead>\n",
       "  <tbody>\n",
       "    <tr>\n",
       "      <th>apple</th>\n",
       "      <td>6268.0</td>\n",
       "      <td>4.049697</td>\n",
       "      <td>0.726943</td>\n",
       "      <td>1.0</td>\n",
       "      <td>4.0</td>\n",
       "      <td>4.5</td>\n",
       "      <td>4.5</td>\n",
       "      <td>5.0</td>\n",
       "    </tr>\n",
       "    <tr>\n",
       "      <th>google</th>\n",
       "      <td>647.0</td>\n",
       "      <td>4.266615</td>\n",
       "      <td>0.547523</td>\n",
       "      <td>1.0</td>\n",
       "      <td>4.1</td>\n",
       "      <td>4.4</td>\n",
       "      <td>4.6</td>\n",
       "      <td>5.0</td>\n",
       "    </tr>\n",
       "  </tbody>\n",
       "</table>\n",
       "</div>"
      ],
      "text/plain": [
       "           count      mean       std  min  25%  50%  75%  max\n",
       "platform                                                     \n",
       "apple     6268.0  4.049697  0.726943  1.0  4.0  4.5  4.5  5.0\n",
       "google     647.0  4.266615  0.547523  1.0  4.1  4.4  4.6  5.0"
      ]
     },
     "execution_count": 35,
     "metadata": {},
     "output_type": "execute_result"
    }
   ],
   "source": [
    "# Lets compare with the previous analytical summary:\n",
    "df.groupby(by='platform')['Rating'].describe()"
   ]
  },
  {
   "cell_type": "code",
   "execution_count": 58,
   "metadata": {
    "colab": {},
    "colab_type": "code",
    "id": "aJPNpX0JFcv-"
   },
   "outputs": [],
   "source": [
    "# The difference in the means for Permutation1 (0.001103) now looks hugely different to our observed difference of 0.14206. \n",
    "# It's sure starting to look like our observed difference is significant, and that the Null is false; platform does impact on ratings\n",
    "# But to be sure, let's create 10,000 permutations, calculate the mean ratings for Google and Apple apps and the difference between these for each one, and then take the average of all of these differences.\n",
    "# Let's create a vector with the differences - that will be the distibution of the Null.\n",
    "\n",
    "# First, make a list called difference.\n",
    "difference = []\n",
    "\n",
    "# Now make a for loop that does the following 10,000 times:\n",
    "# 1. makes a permutation of the 'Rating' as you did above\n",
    "# 2. calculates the difference in the mean rating for apple and the mean rating for google. \n",
    "for permutation in range(10000):\n",
    "    permutation = np.random.permutation(df['Rating'])\n",
    "    difference.append(np.mean(permutation[df['platform'] == 'apple']) - np.mean(permutation[df['platform'] == 'google']))"
   ]
  },
  {
   "cell_type": "code",
   "execution_count": 59,
   "metadata": {
    "colab": {},
    "colab_type": "code",
    "id": "VlzpYTkYFcv_"
   },
   "outputs": [
    {
     "data": {
      "image/png": "[encoded data removed]",
      "text/plain": [
       "<Figure size 432x288 with 1 Axes>"
      ]
     },
     "metadata": {
      "needs_background": "light"
     },
     "output_type": "display_data"
    }
   ],
   "source": [
    "# Make a variable called 'histo', and assign to it the result of plotting a histogram of the difference list. \n",
    "histo = plt.hist(difference)"
   ]
  },
  {
   "cell_type": "code",
   "execution_count": 60,
   "metadata": {
    "colab": {},
    "colab_type": "code",
    "id": "KhqgDFd3FcwB"
   },
   "outputs": [
    {
     "name": "stdout",
     "output_type": "stream",
     "text": [
      "0.21691827382578577\n"
     ]
    }
   ],
   "source": [
    "# Now make a variable called obs_difference, and assign it the result of the mean of our 'apple' variable and the mean of our 'google variable'\n",
    "obs_difference = np.mean(apple) - np.mean(google)\n",
    "\n",
    "# Make this difference absolute with the built-in abs() function. \n",
    "obs_difference = abs(obs_difference)\n",
    "\n",
    "# Print out this value; it should be 0.1420605474512291. \n",
    "print(obs_difference)"
   ]
  },
  {
   "cell_type": "markdown",
   "metadata": {
    "colab_type": "text",
    "id": "QUNuuSgDFcwE"
   },
   "source": [
    "## Stage 4 -  Evaluating and concluding\n",
    "### 4a. What is our conclusion?"
   ]
  },
  {
   "cell_type": "code",
   "execution_count": 61,
   "metadata": {},
   "outputs": [
    {
     "data": {
      "text/plain": [
       "[-0.02185076377251427,\n",
       " -0.05083806858812334,\n",
       " 0.034759737396791834,\n",
       " 0.010205785082393781,\n",
       " -0.04725728387560668,\n",
       " -0.0225328180034694,\n",
       " -0.07095866840130949,\n",
       " 0.027598167971759402,\n",
       " -0.005140435114104669,\n",
       " 0.011910920659782498,\n",
       " 0.002703188541883783,\n",
       " 0.026745600183064155,\n",
       " -0.0008775961706337654,\n",
       " 0.026575086625325817,\n",
       " -0.02696617050468131,\n",
       " -0.023555899349903875,\n",
       " 0.010717325755610574,\n",
       " -0.024237953580858118,\n",
       " -0.04248290425891721,\n",
       " -0.008380192711144652,\n",
       " 0.05692649990284515,\n",
       " 0.018560949411599026,\n",
       " 0.0388520627825244,\n",
       " -0.051349609261339246,\n",
       " 0.004067297003794934,\n",
       " -0.011108409634965177,\n",
       " 0.004237810561533273,\n",
       " 0.021800707008637232,\n",
       " -0.01093789607722595,\n",
       " -0.01315457232783146,\n",
       " 0.01907249008481582,\n",
       " -0.004117353767671972,\n",
       " 0.015321191814559931,\n",
       " -0.01741741127130414,\n",
       " 0.02282378835506993,\n",
       " -0.007527624922448517,\n",
       " -0.011449436750442743,\n",
       " -0.01895203329095274,\n",
       " 0.013786569794910442,\n",
       " 0.05334571519032849,\n",
       " -0.012472518096876328,\n",
       " -0.011108409634966065,\n",
       " -0.04094828223926772,\n",
       " -0.03412773992971285,\n",
       " 0.02930330354914812,\n",
       " -0.004799407998627103,\n",
       " 0.028791762875930438,\n",
       " 0.04243284749504017,\n",
       " 0.011569893544304932,\n",
       " 0.00526089190796597,\n",
       " -0.028841819639809252,\n",
       " -0.017246897713564024,\n",
       " 0.05863163548023387,\n",
       " 0.0286212493181921,\n",
       " -0.07573304801799896,\n",
       " -0.005140435114104669,\n",
       " 0.039875144128957984,\n",
       " -0.030887982332674646,\n",
       " 0.029644330664625684,\n",
       " 0.0146391375836048,\n",
       " -0.04214187714344053,\n",
       " -0.033104658583280155,\n",
       " 0.002873702099622122,\n",
       " -0.009232760499837234,\n",
       " -0.014348167232003384,\n",
       " 0.052834174517112586,\n",
       " 0.013786569794910442,\n",
       " -0.020827682426080685,\n",
       " -0.022191790887992724,\n",
       " -0.031570036563630666,\n",
       " 0.005090378350227631,\n",
       " 0.02350584258602595,\n",
       " 0.0045788376770108385,\n",
       " -0.025602062042770157,\n",
       " 0.008159622389527499,\n",
       " -0.027136684062419647,\n",
       " 0.013445542679431988,\n",
       " 0.019754544315770062,\n",
       " -0.04452906695178527,\n",
       " 0.017367354507427102,\n",
       " -0.035491848391624004,\n",
       " 0.009694244409176989,\n",
       " 0.037487954320614136,\n",
       " -0.02986490098624195,\n",
       " -0.014859707905220176,\n",
       " 0.04158027970634759,\n",
       " 0.02282378835506993,\n",
       " 0.02845073576045376,\n",
       " -0.0629445311875827,\n",
       " 0.008671163062743403,\n",
       " 0.050105957593290285,\n",
       " -0.007698138480187744,\n",
       " -0.0030942724212374983,\n",
       " 0.014127596910388007,\n",
       " -0.002412218190282367,\n",
       " -0.01230200453913799,\n",
       " -0.03839057887318642,\n",
       " -0.020657168868342346,\n",
       " 0.024699437490197873,\n",
       " -0.06072785493697719,\n",
       " -0.028159765408852344,\n",
       " -0.01588278925165376,\n",
       " -0.04231239070117976,\n",
       " 0.04891236268911925,\n",
       " 0.034759737396791834,\n",
       " 0.05385725586354617,\n",
       " -0.004799407998627991,\n",
       " 0.020095571431248516,\n",
       " 0.06067779817310015,\n",
       " -0.00872121982662133,\n",
       " 0.0073070546008331405,\n",
       " 0.01753786806516544,\n",
       " -0.044699580509523607,\n",
       " 0.0016801071954493096,\n",
       " -0.015371248578437857,\n",
       " -0.028159765408852344,\n",
       " -0.026625143389202854,\n",
       " -0.03856109243092387,\n",
       " 0.051640579612939774,\n",
       " 0.0047493512347500655,\n",
       " 0.008671163062744291,\n",
       " -0.0001955419396777458,\n",
       " -0.008039165595666198,\n",
       " 0.03356614249261991,\n",
       " 0.002532674984144556,\n",
       " -0.01093789607722595,\n",
       " -0.034809794160667984,\n",
       " 0.039704630571219646,\n",
       " -0.039754687335095795,\n",
       " -0.017758438386780817,\n",
       " -0.0008775961706337654,\n",
       " 0.0021916478686669905,\n",
       " 0.018049408738382233,\n",
       " -0.01315457232783146,\n",
       " 0.0044083241192725,\n",
       " 0.001168566522232517,\n",
       " -0.009914814730793253,\n",
       " 0.01821992229612146,\n",
       " 0.006966027485355575,\n",
       " -0.013325085885569798,\n",
       " 0.01685581383421031,\n",
       " 0.016514786718731855,\n",
       " -0.012131490981398763,\n",
       " 0.007477568158571479,\n",
       " -0.07948434628825485,\n",
       " 0.00679551392761546,\n",
       " -0.008209679153404537,\n",
       " 0.022482761239593252,\n",
       " -0.028159765408852344,\n",
       " -0.002582731748022482,\n",
       " -0.0107673825194885,\n",
       " 0.02640457306758659,\n",
       " 0.0037262698883173684,\n",
       " -0.0440175262785667,\n",
       " -0.05748809733993898,\n",
       " 0.036976413647397344,\n",
       " -0.01093789607722595,\n",
       " -0.0095737876153148,\n",
       " 0.028962276433669665,\n",
       " 0.015150678256820704,\n",
       " -0.0005365690551553115,\n",
       " -0.003946840209931857,\n",
       " 0.04243284749504106,\n",
       " 0.03851103566704772,\n",
       " -0.027136684062419647,\n",
       " -0.02901233319754848,\n",
       " 0.009694244409176989,\n",
       " -0.005651975787320573,\n",
       " -0.05100858214586168,\n",
       " -0.02901233319754848,\n",
       " 0.036294359416441324,\n",
       " 0.033225115377142345,\n",
       " -0.01213149098139965,\n",
       " 0.036635386531918,\n",
       " 0.028962276433668777,\n",
       " 0.026575086625326705,\n",
       " 0.018390435853860687,\n",
       " 0.036976413647397344,\n",
       " -0.027989251851113117,\n",
       " 0.001509593637711859,\n",
       " -0.009062246942098895,\n",
       " 0.005772432581182763,\n",
       " 0.01907249008481493,\n",
       " -0.0017301639593281237,\n",
       " -0.01520073502069863,\n",
       " -0.03191106367910734,\n",
       " 0.02930330354914812,\n",
       " -0.006845570691493386,\n",
       " 0.02128916633542044,\n",
       " 0.0006570258490166125,\n",
       " 0.050788011824246304,\n",
       " -0.031229009448152212,\n",
       " 0.05573290499867323,\n",
       " 0.013957083352649668,\n",
       " -0.004799407998627103,\n",
       " -0.04725728387560668,\n",
       " 0.017196840949687875,\n",
       " 0.018560949411599026,\n",
       " 0.013104515563954422,\n",
       " 0.047207227111729644,\n",
       " -0.04589317541369464,\n",
       " -0.01809946550225927,\n",
       " -0.0030942724212383865,\n",
       " -0.02406744002311889,\n",
       " 0.04686619999625208,\n",
       " -0.042653417816657324,\n",
       " -0.008380192711143764,\n",
       " -0.022873845118946967,\n",
       " -0.040436741566051815,\n",
       " 0.042603361052780286,\n",
       " -0.041800850027962966,\n",
       " 0.06204190663501219,\n",
       " 0.015491705372300046,\n",
       " -0.033104658583280155,\n",
       " 0.0016801071954501978,\n",
       " -0.03566236194936234,\n",
       " -0.02628411627372529,\n",
       " -0.02389692646538144,\n",
       " -0.033104658583280155,\n",
       " 0.06238293375049064,\n",
       " -0.026625143389202854,\n",
       " 0.03561230518548708,\n",
       " 0.0032147292151005757,\n",
       " 0.03220203403070965,\n",
       " 0.052834174517112586,\n",
       " -0.011108409634966065,\n",
       " 0.04550209153434004,\n",
       " -0.016223816367132216,\n",
       " 0.003896783446055707,\n",
       " 0.006283973254400443,\n",
       " -0.001048109728371216,\n",
       " -0.01809946550225927,\n",
       " -0.015030221462959403,\n",
       " 0.03578281874322542,\n",
       " 0.0073070546008331405,\n",
       " -0.03139952300589144,\n",
       " 0.0023621614264062174,\n",
       " -0.04265341781665821,\n",
       " 0.06238293375049064,\n",
       " 0.026916113740803382,\n",
       " 0.06886244894456706,\n",
       " -0.0017301639593272355,\n",
       " -0.0013891368438487817,\n",
       " -0.02321487223442631,\n",
       " 0.022312247681854913,\n",
       " -0.007868652037926971,\n",
       " 0.012081434217522613,\n",
       " 0.039022576340263626,\n",
       " 0.012081434217521725,\n",
       " -0.029353360313025156,\n",
       " 0.012934002006216083,\n",
       " 0.006454486812138782,\n",
       " 0.03083792556879672,\n",
       " 0.017708381622904668,\n",
       " -0.03702647041127438,\n",
       " -0.0591932329173277,\n",
       " -2.5028381938518862e-05,\n",
       " -0.018611006175475175,\n",
       " 0.039704630571219646,\n",
       " 0.03714692720513657,\n",
       " 0.025893032394370685,\n",
       " 0.020266084988987743,\n",
       " 0.05999574394214502,\n",
       " -0.034809794160667984,\n",
       " -0.005481462229582235,\n",
       " 0.005090378350227631,\n",
       " 0.055562391440934,\n",
       " 0.02623405950984914,\n",
       " 0.01617375960325429,\n",
       " 0.011910920659783386,\n",
       " -0.02526103492729259,\n",
       " -0.044870094067261945,\n",
       " 0.00014548517580070808,\n",
       " 0.046354659323035285,\n",
       " 0.047036713553991305,\n",
       " 0.014980164699082366,\n",
       " 0.023676356143764288,\n",
       " -0.02986490098624195,\n",
       " -0.019804601079648876,\n",
       " 0.04464952374564746,\n",
       " 0.03765846787835336,\n",
       " 0.007136541043093914,\n",
       " 0.0108878393133498,\n",
       " -0.041118795797006946,\n",
       " -0.009744301173054914,\n",
       " 0.04021617124443555,\n",
       " -0.04879190589525706,\n",
       " -0.003605813094454291,\n",
       " 0.018049408738382233,\n",
       " 0.015662218930038385,\n",
       " 0.06681628625169989,\n",
       " -0.06464966676497141,\n",
       " -0.020316141752863892,\n",
       " 0.0415802797063467,\n",
       " 0.006283973254399555,\n",
       " 0.009864757966916216,\n",
       " 0.006113459696662105,\n",
       " 0.011910920659782498,\n",
       " -0.02764822473563644,\n",
       " -0.02901233319754759,\n",
       " 0.03083792556879761,\n",
       " 0.05829060836475719,\n",
       " -0.03429825348745208,\n",
       " -0.036003389064840796,\n",
       " 0.04311490172599708,\n",
       " 0.036123845858702985,\n",
       " 0.021459679893160555,\n",
       " -2.5028381937630684e-05,\n",
       " -0.008550706268882102,\n",
       " 0.015662218930038385,\n",
       " -0.013836626558788367,\n",
       " -0.030205928101718627,\n",
       " 0.03424819672357593,\n",
       " 0.0073070546008331405,\n",
       " -0.014007140116526706,\n",
       " -0.04299444493213489,\n",
       " -0.01963408752190965,\n",
       " 0.042091820379563494,\n",
       " 0.04294438816825785,\n",
       " 0.0528341745171117,\n",
       " 0.005260891907966858,\n",
       " 0.019413517200292496,\n",
       " -0.010767382519486723,\n",
       " -0.001218623286110443,\n",
       " 0.02828022220271542,\n",
       " 0.00526089190796597,\n",
       " 0.017878895180643006,\n",
       " -0.01895203329095363,\n",
       " 0.006966027485355575,\n",
       " -0.014348167232003384,\n",
       " -0.009573787615315688,\n",
       " 0.05351622874806772,\n",
       " 0.012763488448476856,\n",
       " -0.038220065315446305,\n",
       " -0.05765861089767732,\n",
       " -0.0046288944408887644,\n",
       " -0.019293060406431195,\n",
       " -0.027989251851113117,\n",
       " 0.031861006915231194,\n",
       " -0.031570036563630666,\n",
       " -0.03634441618031836,\n",
       " -0.06175093628341077,\n",
       " -0.017587924829043367,\n",
       " 0.026575086625325817,\n",
       " 0.028280222202714533,\n",
       " -0.07982537340373241,\n",
       " -0.031570036563630666,\n",
       " 0.03561230518548619,\n",
       " 0.04618414576529606,\n",
       " -0.010767382519486723,\n",
       " -0.0034352995367159522,\n",
       " -0.040266228008313476,\n",
       " 0.025893032394370685,\n",
       " 0.032713574703924664,\n",
       " -0.01161995030818197,\n",
       " -0.022873845118947855,\n",
       " 0.0545393100945013,\n",
       " -0.01213149098139965,\n",
       " -0.04367649916309091,\n",
       " -0.0015596504015880086,\n",
       " -0.007527624922448517,\n",
       " -0.048450878779778606,\n",
       " -0.02696617050468042,\n",
       " -0.0030942724212374983,\n",
       " 0.02197122056637646,\n",
       " -0.02867130608206825,\n",
       " 0.06442909644335604,\n",
       " -0.04742779743334591,\n",
       " -0.029523873870763495,\n",
       " -0.03651492973805759,\n",
       " 0.03339562893488068,\n",
       " -0.002412218190283255,\n",
       " 0.026575086625325817,\n",
       " 0.035271278070009515,\n",
       " 0.03595333230096465,\n",
       " -0.00735711136470929,\n",
       " 0.025210978163414666,\n",
       " 0.027427654414020175,\n",
       " -0.028330278966590683,\n",
       " -0.006845570691493386,\n",
       " -0.039754687335095795,\n",
       " -0.021509736657037593,\n",
       " 0.036294359416441324,\n",
       " -2.5028381938518862e-05,\n",
       " 0.02418789681698108,\n",
       " -0.01230200453913799,\n",
       " 0.02708662729854261,\n",
       " 0.028962276433668777,\n",
       " 0.0045788376770108385,\n",
       " 0.017367354507426214,\n",
       " -0.01605330280939299,\n",
       " -0.008380192711142875,\n",
       " -0.0160533028093921,\n",
       " 0.010035271524654554,\n",
       " 0.01395708335264878,\n",
       " 0.001850620753190313,\n",
       " 0.0004865122912782738,\n",
       " 0.03305460181940312,\n",
       " 0.027939195087236968,\n",
       " 0.04823030845816234,\n",
       " 0.03424819672357504,\n",
       " -0.06055734137923974,\n",
       " 0.044820037303385796,\n",
       " -0.015712275693915423,\n",
       " -0.05697655666672219,\n",
       " 0.000315998733539935,\n",
       " 0.03339562893488068,\n",
       " -0.006163516460539142,\n",
       " 0.012251947775260064,\n",
       " -0.007868652037926971,\n",
       " 0.011228866428827367,\n",
       " -0.02304435867668797,\n",
       " 0.001339080079971744,\n",
       " -0.004287867325410311,\n",
       " -0.02389692646538144,\n",
       " 0.023676356143764288,\n",
       " -0.015371248578436969,\n",
       " 0.010717325755610574,\n",
       " -0.022362304445730175,\n",
       " -0.0452111211827404,\n",
       " 0.039704630571219646,\n",
       " -0.012472518096877216,\n",
       " -0.03702647041127438,\n",
       " -0.031229009448153988,\n",
       " -0.025261034927291703,\n",
       " -0.02168025021477593,\n",
       " 0.031690493357492855,\n",
       " -0.013495599443309914,\n",
       " -0.01588278925165465,\n",
       " -0.014177653674265045,\n",
       " 0.04226233393730183,\n",
       " -0.025090521369553365,\n",
       " -0.0010481097283729923,\n",
       " 0.031861006915231194,\n",
       " 0.02708662729854172,\n",
       " -0.023896926465380552,\n",
       " 0.011910920659782498,\n",
       " 0.025381491721153004,\n",
       " 0.03851103566704772,\n",
       " -0.04026622800831259,\n",
       " -0.017928951944520932,\n",
       " -0.01161995030818197,\n",
       " 0.032543061146186325,\n",
       " 0.04140976614860836,\n",
       " 0.02060711210446531,\n",
       " 0.033225115377142345,\n",
       " 0.010717325755610574,\n",
       " -0.06413812609175551,\n",
       " 0.010717325755610574,\n",
       " 0.04413798307242889,\n",
       " -0.05987528714828283,\n",
       " 0.0512995524974631,\n",
       " 0.0004865122912782738,\n",
       " -0.025602062042770157,\n",
       " -0.00496992155636633,\n",
       " 0.03458922383905261,\n",
       " -0.057999638013155774,\n",
       " -0.005993002902799027,\n",
       " -0.039754687335095795,\n",
       " 0.017367354507427102,\n",
       " 0.052834174517113475,\n",
       " 0.004578837677011727,\n",
       " 0.04618414576529695,\n",
       " -0.036685443295796816,\n",
       " 0.044990550861124134,\n",
       " -0.03429825348745297,\n",
       " -0.0414598229124854,\n",
       " 0.011399379986565705,\n",
       " -0.03736749752675106,\n",
       " 0.03646487297417966,\n",
       " 0.0013390800799726321,\n",
       " -0.04128930935474617,\n",
       " 0.04294438816825874,\n",
       " 0.05198160672841823,\n",
       " 0.031178952684275174,\n",
       " 0.012934002006216971,\n",
       " 0.009353217293699423,\n",
       " 0.05846112192249553,\n",
       " -0.041118795797007834,\n",
       " 0.028109708644975306,\n",
       " -0.02099819598381991,\n",
       " -0.012813545212353894,\n",
       " -0.025090521369553365,\n",
       " -0.008891733384359668,\n",
       " 0.018731462969337365,\n",
       " -0.00872121982662133,\n",
       " -0.005651975787320573,\n",
       " 0.0146391375836048,\n",
       " -0.031058495890413873,\n",
       " -0.02321487223442631,\n",
       " 0.007818595274050821,\n",
       " 0.04788928134268566,\n",
       " -0.03736749752675195,\n",
       " -0.012643031654614667,\n",
       " -0.02150973665703848,\n",
       " 0.021630193450898894,\n",
       " -0.058170151570895,\n",
       " -0.025261034927291703,\n",
       " -0.011278923192704404,\n",
       " 0.017026327391949536,\n",
       " 0.0009980529644950664,\n",
       " 0.018560949411599026,\n",
       " 0.013616056237171215,\n",
       " -0.036685443295796816,\n",
       " -0.035321334833885665,\n",
       " -0.017928951944520932,\n",
       " 0.037828981436090814,\n",
       " 0.029473817106886457,\n",
       " -0.011278923192703516,\n",
       " -0.019804601079647988,\n",
       " 0.00014548517580159626,\n",
       " 0.06187139307727296,\n",
       " 0.0008275394067558395,\n",
       " -0.0225328180034694,\n",
       " 0.008330135947265838,\n",
       " 0.00884167662048263,\n",
       " -0.07419842599834947,\n",
       " -0.02901233319754759,\n",
       " 0.015832732487776724,\n",
       " -0.0020711910748048012,\n",
       " -0.026625143389202854,\n",
       " 0.012934002006216083,\n",
       " -0.004287867325411199,\n",
       " 0.005431405465705197,\n",
       " -0.011619950308182858,\n",
       " -0.003946840209931857,\n",
       " 0.003044215657361349,\n",
       " -0.04128930935474617,\n",
       " -0.029523873870763495,\n",
       " -0.002241704632544028,\n",
       " 0.02197122056637646,\n",
       " -0.020827682426080685,\n",
       " -0.03651492973805759,\n",
       " -0.010255841846271707,\n",
       " -0.005481462229582235,\n",
       " 0.03151997979975274,\n",
       " -0.05083806858812334,\n",
       " 0.015321191814559931,\n",
       " 0.012251947775260064,\n",
       " 0.04140976614860836,\n",
       " -0.02901233319754759,\n",
       " -0.045722661855956304,\n",
       " -0.004799407998627991,\n",
       " -0.07624458869121487,\n",
       " -0.0020711910748048012,\n",
       " 0.020777625662204535,\n",
       " 0.010546812197871347,\n",
       " 0.06135985240405617,\n",
       " -0.03992520089283502,\n",
       " -0.015030221462959403,\n",
       " 0.014127596910388007,\n",
       " -0.003776326652193518,\n",
       " 0.03851103566704772,\n",
       " 0.002532674984143668,\n",
       " -0.021339223099297477,\n",
       " 0.003044215657361349,\n",
       " 0.009523730851439538,\n",
       " -0.00496992155636633,\n",
       " -0.05748809733993898,\n",
       " 0.005431405465706085,\n",
       " -0.06686634301557692,\n",
       " -0.007868652037926971,\n",
       " -0.03822006531544542,\n",
       " -0.04384701272082925,\n",
       " -0.03770852464222951,\n",
       " 0.013275029121693649,\n",
       " 0.05641495922962925,\n",
       " 0.023164815470548383,\n",
       " 0.04550209153434004,\n",
       " 0.0015095936377109709,\n",
       " 0.00679551392761546,\n",
       " 0.002873702099622122,\n",
       " 0.004919864792488404,\n",
       " 0.0059429461389219895,\n",
       " -0.015030221462959403,\n",
       " 0.01020578508239467,\n",
       " 0.03305460181940223,\n",
       " 0.030326384895580816,\n",
       " 0.008671163062744291,\n",
       " 0.012934002006216083,\n",
       " -0.004287867325411199,\n",
       " 0.01037629864013212,\n",
       " 0.042091820379563494,\n",
       " 0.022994301912809156,\n",
       " 0.06067779817310104,\n",
       " 0.03919308989800285,\n",
       " 0.01907249008481493,\n",
       " 0.06306498798144489,\n",
       " -0.03856109243092387,\n",
       " 0.025040464605676327,\n",
       " -0.054418853300638226,\n",
       " 0.009864757966916216,\n",
       " 0.005601919023445312,\n",
       " 0.004919864792489292,\n",
       " 0.013616056237172103,\n",
       " -0.004117353767671972,\n",
       " 0.04158027970634759,\n",
       " 0.007136541043093914,\n",
       " 0.027939195087236968,\n",
       " -0.002582731748022482,\n",
       " -0.0070160842492326125,\n",
       " 0.003896783446055707,\n",
       " 0.04226233393730183,\n",
       " 0.019754544315771838,\n",
       " 0.07636504548507794,\n",
       " 0.017026327391949536,\n",
       " -0.019975114637387215,\n",
       " -0.07829075138408115,\n",
       " 0.01634427316099263,\n",
       " 0.04004565768669632,\n",
       " 0.04311490172599708,\n",
       " 0.06579320490526719,\n",
       " -0.0008775961706328772,\n",
       " -0.01826997905999761,\n",
       " -0.034468767045191306,\n",
       " 0.02930330354914812,\n",
       " -0.02116870954155825,\n",
       " -0.03634441618031925,\n",
       " -0.009062246942098007,\n",
       " 0.009012190178221857,\n",
       " -0.052031663492295266,\n",
       " 0.020095571431248516,\n",
       " 0.04175079326408593,\n",
       " 0.026745600183064155,\n",
       " -0.003776326652193518,\n",
       " -0.0029237588634991596,\n",
       " 0.014980164699082366,\n",
       " -0.003605813094454291,\n",
       " 0.0146391375836048,\n",
       " 0.03748795432061325,\n",
       " -0.030035414543980288,\n",
       " 0.001339080079971744,\n",
       " 0.036805900089659005,\n",
       " -0.01690587059808646,\n",
       " 0.007818595274050821,\n",
       " -0.017076384155825686,\n",
       " 0.04072771191765234,\n",
       " 0.028791762875930438,\n",
       " -0.0020711910748048012,\n",
       " -0.006675057133754159,\n",
       " 0.01685581383421031,\n",
       " -0.004287867325411199,\n",
       " -0.005822489345058912,\n",
       " -0.004117353767671972,\n",
       " -0.010426355404009158,\n",
       " 0.050788011824246304,\n",
       " -0.008891733384359668,\n",
       " -0.016394329924869666,\n",
       " 0.05965471682666834,\n",
       " 0.007136541043093914,\n",
       " -0.03327517214101938,\n",
       " -0.025261034927291703,\n",
       " 0.053516228748068606,\n",
       " -0.01213149098139965,\n",
       " -0.014859707905220176,\n",
       " 0.024358410374720307,\n",
       " -0.019463573964170422,\n",
       " -0.0414598229124854,\n",
       " 0.035271278070009515,\n",
       " 0.015150678256821593,\n",
       " 0.054368796536762964,\n",
       " -0.03344568569875772,\n",
       " -0.01605330280939299,\n",
       " 0.02197122056637646,\n",
       " 0.005431405465706085,\n",
       " -0.004287867325411199,\n",
       " 0.013275029121693649,\n",
       " -0.025602062042770157,\n",
       " -0.01826997905999761,\n",
       " -0.0020711910748048012,\n",
       " 0.008330135947267614,\n",
       " 0.017196840949688763,\n",
       " 0.029985357780104138,\n",
       " 0.006625000369877121,\n",
       " -0.005481462229582235,\n",
       " 0.009523730851439538,\n",
       " 0.04413798307242889,\n",
       " 0.005090378350227631,\n",
       " -0.028159765408852344,\n",
       " -0.019463573964169534,\n",
       " 0.0020211343109286517,\n",
       " -0.04589317541369464,\n",
       " 0.012251947775259175,\n",
       " -0.015712275693915423,\n",
       " 0.008671163062744291,\n",
       " 0.013445542679432876,\n",
       " 0.0004865122912782738,\n",
       " -0.03515082127614555,\n",
       " -0.0017301639593281237,\n",
       " 0.0023621614264053292,\n",
       " -0.028500792524330798,\n",
       " 0.0035557563305790296,\n",
       " -0.0046288944408887644,\n",
       " 0.021630193450897117,\n",
       " -0.05851117868637257,\n",
       " 0.017878895180642118,\n",
       " -0.009914814730793253,\n",
       " 0.004067297003794046,\n",
       " 0.03919308989800285,\n",
       " 0.027257140856280948,\n",
       " -0.036003389064841684,\n",
       " -0.012813545212353894,\n",
       " -0.009744301173054914,\n",
       " -0.0441880398363077,\n",
       " -0.02901233319754759,\n",
       " -0.015371248578437857,\n",
       " -0.033786712814236175,\n",
       " 0.011399379986566593,\n",
       " 0.022141734124115686,\n",
       " 0.00798910883178916,\n",
       " 0.0734663150035173,\n",
       " 0.034077683165835815,\n",
       " -0.0015596504015880086,\n",
       " 0.032543061146186325,\n",
       " -0.006675057133754159,\n",
       " -0.019804601079648876,\n",
       " -0.009573787615315688,\n",
       " 0.0016801071954501978,\n",
       " -0.04504060762500117,\n",
       " 0.012251947775260064,\n",
       " 0.04550209153434093,\n",
       " -0.0008775961706337654,\n",
       " 0.04771876778494555,\n",
       " 0.0146391375836048,\n",
       " 0.00679551392761546,\n",
       " -0.0020711910748048012,\n",
       " -0.005140435114105557,\n",
       " -0.031740550121369004,\n",
       " -0.009573787615315688,\n",
       " 0.052322633843895794,\n",
       " 0.029473817106886457,\n",
       " 0.022141734124114798,\n",
       " 0.03868154922478517,\n",
       " -0.028671306082069137,\n",
       " -0.03259311791006336,\n",
       " -0.04009571445057336,\n",
       " -0.048621392337516944,\n",
       " 0.07568299125412192,\n",
       " -0.004117353767671972,\n",
       " 0.02913278999140978,\n",
       " -0.02389692646538144,\n",
       " 0.011740407102043271,\n",
       " -0.011278923192704404,\n",
       " 0.021630193450898005,\n",
       " -0.07351637176739434,\n",
       " 0.0073070546008331405,\n",
       " 0.026575086625325817,\n",
       " 0.01242246133299929,\n",
       " 0.06272396086596732,\n",
       " 0.024358410374720307,\n",
       " -0.01161995030818197,\n",
       " 0.019925057873510177,\n",
       " 0.02708662729854261,\n",
       " 0.016514786718731855,\n",
       " -0.03566236194936323,\n",
       " 0.030326384895580816,\n",
       " 0.06596371846300642,\n",
       " 0.025381491721153004,\n",
       " -0.03157003656362978,\n",
       " -0.012643031654614667,\n",
       " -0.019804601079648876,\n",
       " -0.03191106367910734,\n",
       " 0.03339562893488157,\n",
       " -0.02696617050468131,\n",
       " 0.00014548517580159626,\n",
       " -0.02168025021477593,\n",
       " -0.02986490098624195,\n",
       " -0.0017301639593272355,\n",
       " 0.033225115377141456,\n",
       " -0.025602062042770157,\n",
       " -0.025943089158247723,\n",
       " 0.002532674984144556,\n",
       " -0.011278923192703516,\n",
       " -0.0030942724212374983,\n",
       " -0.02116870954155914,\n",
       " 0.014809651141344027,\n",
       " -0.019804601079647988,\n",
       " -0.01826997905999761,\n",
       " -0.0007070826128936503,\n",
       " -0.019293060406431195,\n",
       " 0.045672605092079266,\n",
       " -0.06533172099592743,\n",
       " 0.0032147292151005757,\n",
       " 0.02350584258602595,\n",
       " 0.032713574703924664,\n",
       " 0.028109708644975306,\n",
       " 0.027939195087236968,\n",
       " -0.0013891368438487817,\n",
       " 0.010376298640133008,\n",
       " -0.024578980696336572,\n",
       " 0.030496898453319154,\n",
       " -0.011790463865921197,\n",
       " 0.01975454431577095,\n",
       " 0.0028737020996212337,\n",
       " -0.008380192711143764,\n",
       " -0.017758438386781705,\n",
       " -0.030035414543980288,\n",
       " 0.005260891907966858,\n",
       " -0.02270333156120774,\n",
       " 0.002362161426404441,\n",
       " -0.03498030771840899,\n",
       " 0.01821992229612146,\n",
       " 0.02128916633541955,\n",
       " 0.0008275394067549513,\n",
       " -0.01520073502069863,\n",
       " 0.0028737020996212337,\n",
       " -0.013495599443309914,\n",
       " 0.039193089898001965,\n",
       " 0.014468624025865573,\n",
       " 0.021118652777681213,\n",
       " 0.04737774066946887,\n",
       " -0.004799407998627991,\n",
       " 0.03373665605035914,\n",
       " 0.00952373085143865,\n",
       " -0.015712275693915423,\n",
       " 0.03220203403070965,\n",
       " -0.00872121982662133,\n",
       " 0.007136541043093914,\n",
       " 0.00798910883178916,\n",
       " 0.046354659323035285,\n",
       " 0.03424819672357593,\n",
       " 0.04840082201590157,\n",
       " -0.034809794160667984,\n",
       " 0.023676356143764288,\n",
       " -0.017758438386781705,\n",
       " 0.012763488448476856,\n",
       " 0.011569893544304932,\n",
       " -0.060898368494716415,\n",
       " -0.005993002902799027,\n",
       " 0.03288408826166478,\n",
       " 0.06664577269396155,\n",
       " 0.02572251883663146,\n",
       " 0.011910920659782498,\n",
       " -0.029353360313025156,\n",
       " -0.0015596504015871204,\n",
       " -0.02526103492729259,\n",
       " 0.05777906769153951,\n",
       " -0.006163516460538254,\n",
       " 0.05709701346058349,\n",
       " 0.014809651141343139,\n",
       " -0.03378671281423529,\n",
       " -0.019293060406431195,\n",
       " 0.026063545952109912,\n",
       " -0.008380192711143764,\n",
       " -0.04060725512379104,\n",
       " 0.00014548517580070808,\n",
       " 0.0032147292151005757,\n",
       " -0.016394329924870554,\n",
       " -0.014859707905220176,\n",
       " -0.0034352995367159522,\n",
       " 0.036976413647396456,\n",
       " 0.0044083241192725,\n",
       " -0.03856109243092298,\n",
       " -0.03617390262258002,\n",
       " -0.024578980696336572,\n",
       " -0.007868652037926083,\n",
       " 0.027427654414021063,\n",
       " -0.020145628195125553,\n",
       " 0.04328541528373542,\n",
       " -0.00036605549741608456,\n",
       " -0.005481462229582235,\n",
       " -0.08442923946268088,\n",
       " 0.006283973254400443,\n",
       " 0.019584030758031723,\n",
       " 0.014980164699082366,\n",
       " 0.030155871337842477,\n",
       " 0.0044083241192725,\n",
       " 0.003896783446055707,\n",
       " -0.03617390262258002,\n",
       " 0.05624444567189002,\n",
       " -0.003776326652193518,\n",
       " 0.001168566522232517,\n",
       " -0.03259311791006336,\n",
       " -0.029694387428501834,\n",
       " 0.019925057873510177,\n",
       " -0.019804601079647988,\n",
       " -0.0058224893450598,\n",
       " -0.0225328180034694,\n",
       " 0.029473817106886457,\n",
       " 0.045672605092079266,\n",
       " -0.018781519733214402,\n",
       " 0.026063545952109912,\n",
       " -0.039072633104139776,\n",
       " -0.03770852464222951,\n",
       " -0.023385385792164648,\n",
       " -0.0001955419396777458,\n",
       " 0.039022576340263626,\n",
       " 0.01174040710204416,\n",
       " -0.0001955419396777458,\n",
       " -0.004969921556365442,\n",
       " -0.0013891368438496698,\n",
       " -0.038220065315446305,\n",
       " 0.012081434217521725,\n",
       " 0.002703188541883783,\n",
       " 0.005090378350227631,\n",
       " -0.0044583808831495375,\n",
       " 0.01242246133299929,\n",
       " 0.007136541043093914,\n",
       " 0.01753786806516544,\n",
       " 0.005260891907966858,\n",
       " -0.04231239070117887,\n",
       " 0.0004865122912782738,\n",
       " -0.00036605549741608456,\n",
       " -0.009573787615315688,\n",
       " -0.03634441618031925,\n",
       " -0.030205928101718627,\n",
       " 0.030155871337842477,\n",
       " -0.0046288944408887644,\n",
       " -0.08408821234720332,\n",
       " -0.044699580509523607,\n",
       " 0.00031599873353904684,\n",
       " -0.04742779743334591,\n",
       " 0.031861006915230305,\n",
       " -0.002582731748022482,\n",
       " 0.010546812197871347,\n",
       " -0.016735357040347232,\n",
       " 0.0011685665222334052,\n",
       " 0.020607112104466196,\n",
       " 0.011569893544304932,\n",
       " 0.019243003642554157,\n",
       " -0.002412218190282367,\n",
       " -0.03293414502554093,\n",
       " 0.002532674984144556,\n",
       " 0.01600324604551595,\n",
       " 0.0015095936377109709,\n",
       " -0.007698138480187744,\n",
       " -0.005481462229582235,\n",
       " -0.0015596504015880086,\n",
       " 0.008159622389527499,\n",
       " -0.011790463865921197,\n",
       " -0.0387316059886631,\n",
       " -0.04367649916309002,\n",
       " -0.01741741127130414,\n",
       " -0.04657522964465155,\n",
       " -0.0225328180034694,\n",
       " -0.02764822473563555,\n",
       " -0.011108409634966065,\n",
       " 0.004237810561532385,\n",
       " 0.057438040576061944,\n",
       " -0.005651975787320573,\n",
       " -0.007698138480188632,\n",
       " -0.017246897713564913,\n",
       " -0.0032647859789767253,\n",
       " -0.008380192711142875,\n",
       " 0.09870232154886915,\n",
       " -0.024578980696336572,\n",
       " -0.020827682426080685,\n",
       " 0.0008275394067558395,\n",
       " -0.022873845118946967,\n",
       " 0.010546812197871347,\n",
       " -0.026966170504682196,\n",
       " -0.04981498724168976,\n",
       " -0.010767382519487612,\n",
       " 0.014127596910388007,\n",
       " -0.05663552955124551,\n",
       " 0.01753786806516544,\n",
       " -0.05765861089767732,\n",
       " -0.025602062042770157,\n",
       " -0.021509736657036704,\n",
       " 0.020777625662204535,\n",
       " -0.03191106367910734,\n",
       " -0.005651975787320573,\n",
       " 0.03339562893488068,\n",
       " 0.003044215657361349,\n",
       " -0.031058495890413873,\n",
       " 0.022312247681854913,\n",
       " 0.015150678256821593,\n",
       " 0.014809651141343139,\n",
       " -0.004799407998627103,\n",
       " 0.03305460181940312,\n",
       " 0.02623405950984914,\n",
       " 0.017026327391948648,\n",
       " -0.047086770317867455,\n",
       " -0.0029237588634991596,\n",
       " -0.03651492973805759,\n",
       " 0.02145967989315878,\n",
       " 0.02640457306758659,\n",
       " 0.019243003642554157,\n",
       " -0.017928951944520932,\n",
       " -0.009914814730794141,\n",
       " 0.03203152047297042,\n",
       " -0.007698138480188632,\n",
       " 0.012592974890738518,\n",
       " 0.038340522109308495,\n",
       " 0.022994301912810045,\n",
       " 0.030155871337842477,\n",
       " -0.024408467138598233,\n",
       " 0.02776868152949863,\n",
       " 0.013616056237170326,\n",
       " -0.015030221462958515,\n",
       " 0.019584030758031723,\n",
       " 0.020777625662204535,\n",
       " -0.007868652037926971,\n",
       " -0.020827682426080685,\n",
       " 0.024869951047937988,\n",
       " 0.022482761239592364,\n",
       " 0.02572251883663146,\n",
       " 0.010717325755610574,\n",
       " -0.014177653674265933,\n",
       " 0.016514786718731855,\n",
       " ...]"
      ]
     },
     "execution_count": 61,
     "metadata": {},
     "output_type": "execute_result"
    }
   ],
   "source": [
    "difference"
   ]
  },
  {
   "cell_type": "code",
   "execution_count": 71,
   "metadata": {
    "colab": {},
    "colab_type": "code",
    "id": "XMQHnqx1FcwF"
   },
   "outputs": [
    {
     "name": "stdout",
     "output_type": "stream",
     "text": [
      "0\n"
     ]
    }
   ],
   "source": [
    "'''\n",
    "What do we know? \n",
    "\n",
    "Recall: The p-value of our observed data is just the proportion of the data given the null that's at least as extreme as that observed data.\n",
    "\n",
    "As a result, we're going to count how many of the differences in our difference list are at least as extreme as our observed difference.\n",
    "\n",
    "If less than or equal to 5% of them are, then we will reject the Null. \n",
    "'''\n",
    "for i in range(len(difference)):\n",
    "    count = 0\n",
    "    if (difference[i] >= obs_difference or difference[i]<= -obs_difference):\n",
    "        count +=1\n",
    "print(count)"
   ]
  },
  {
   "cell_type": "markdown",
   "metadata": {
    "colab_type": "text",
    "id": "4RTofY9wFcwI"
   },
   "source": [
    "### 4b. What is our decision?\n",
    "So actually, zero differences are at least as extreme as our observed difference!\n",
    "\n",
    "So the p-value of our observed data is 0. \n",
    "\n",
    "It doesn't matter which significance level we pick; our observed data is statistically significant, and we reject the Null.\n",
    "\n",
    "We conclude that platform does impact on ratings. Specifically, we should advise our client to integrate **only Google Play** into their operating system interface. "
   ]
  },
  {
   "cell_type": "markdown",
   "metadata": {
    "colab_type": "text",
    "id": "Cu_eh7fTFcwJ"
   },
   "source": [
    "### 4c. Other statistical tests, and next steps\n",
    "The test we used here is the Permutation test. This was appropriate because our data were not normally distributed! \n",
    "\n",
    "As we've seen in Professor Spiegelhalter's book, there are actually many different statistical tests, all with different assumptions. How many of these different statistical tests can you remember? How much do you remember about what the appropriate conditions are under which to use them? \n",
    "\n",
    "Make a note of your answers to these questions, and discuss them with your mentor at your next call. \n"
   ]
  }
 ],
 "metadata": {
  "colab": {
   "collapsed_sections": [
    "5fbRq2MZFcvq",
    "4RTofY9wFcwI",
    "Cu_eh7fTFcwJ"
   ],
   "name": "Springboard Apps project - Tier 3 - Complete.ipynb",
   "provenance": []
  },
  "kernelspec": {
   "display_name": "Python 3",
   "language": "python",
   "name": "python3"
  },
  "language_info": {
   "codemirror_mode": {
    "name": "ipython",
    "version": 3
   },
   "file_extension": ".py",
   "mimetype": "text/x-python",
   "name": "python",
   "nbconvert_exporter": "python",
   "pygments_lexer": "ipython3",
   "version": "3.7.6"
  }
 },
 "nbformat": 4,
 "nbformat_minor": 1
}
